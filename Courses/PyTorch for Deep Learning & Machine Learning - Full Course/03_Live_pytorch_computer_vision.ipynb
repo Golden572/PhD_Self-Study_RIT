{
 "cells": [
  {
   "cell_type": "markdown",
   "id": "05d408a3",
   "metadata": {},
   "source": [
    "# Module 03 - Computer Vision with PyTorch\n"
   ]
  },
  {
   "cell_type": "markdown",
   "id": "a77fd51c",
   "metadata": {},
   "source": [
    "### 0. Computer Vision Libraries\n",
    "* `torch.vision`\n",
    "* `torch.vision.datasets` -> Get datasets and data loading fucntions for computer vision here.\n",
    "* `torch.vision.models` -> Get pre/trained computer vision models that you can leverage for your own problems.\n",
    "* `torch.vision.transforms` -> Functions for manipulating your vision data (images) to be suitable for use with an ML model.\n",
    "* `torch.utils.data.Dataset` -> Base dataset class for PyTorch.\n",
    "* `torch.utils.data.DatLoader` -> Create a Python iterable over a dataset."
   ]
  },
  {
   "cell_type": "code",
   "execution_count": 4,
   "id": "663cbcb0",
   "metadata": {},
   "outputs": [
    {
     "name": "stdout",
     "output_type": "stream",
     "text": [
      "PyTorch Version: 2.7.0+cu118\n",
      "TorchVision Version: 0.22.0+cu118\n"
     ]
    }
   ],
   "source": [
    "# PyTorch\n",
    "import torch\n",
    "import torch.nn as nn\n",
    "\n",
    "# Torchvision\n",
    "import torchvision\n",
    "from torchvision import datasets\n",
    "from torchvision import transforms\n",
    "from torchvision.transforms import ToTensor\n",
    "\n",
    "# Data Manipulation\n",
    "import numpy as np\n",
    "import pandas as pd\n",
    "import matplotlib.pyplot as plt\n",
    "\n",
    "# Path\n",
    "from pathlib import Path\n",
    "\n",
    "# Seed\n",
    "MY_SEED = 42\n",
    "\n",
    "# Versions\n",
    "print(f'PyTorch Version: {torch.__version__}')\n",
    "print(f'TorchVision Version: {torchvision.__version__}')\n"
   ]
  },
  {
   "cell_type": "markdown",
   "id": "c6d53bea",
   "metadata": {},
   "source": [
    "### 1. Getting a Dataset\n",
    "We'll use FashionMNIST from torchvision.datasets."
   ]
  },
  {
   "cell_type": "code",
   "execution_count": 5,
   "id": "0e1e3c63",
   "metadata": {},
   "outputs": [
    {
     "data": {
      "text/plain": [
       "(60000, 10000)"
      ]
     },
     "execution_count": 5,
     "metadata": {},
     "output_type": "execute_result"
    }
   ],
   "source": [
    "# Setup Training Data\n",
    "from torchvision import datasets\n",
    "train_data = datasets.FashionMNIST(root='data', train=True, download=True,\n",
    "                                   transform=torchvision.transforms.ToTensor(),\n",
    "                                   target_transform=None)\n",
    "test_data = datasets.FashionMNIST(root='data', train=False, download=True, transform=ToTensor(),target_transform=None)\n",
    "len(train_data), len(test_data)"
   ]
  },
  {
   "cell_type": "markdown",
   "id": "77b36623",
   "metadata": {},
   "source": [
    "#### 1.1. Exploring Dataset Specifications"
   ]
  },
  {
   "cell_type": "code",
   "execution_count": 6,
   "id": "aac0dbf9",
   "metadata": {},
   "outputs": [
    {
     "data": {
      "text/plain": [
       "(tensor([[[0.0000, 0.0000, 0.0000, 0.0000, 0.0000, 0.0000, 0.0000, 0.0000,\n",
       "           0.0000, 0.0000, 0.0000, 0.0000, 0.0000, 0.0000, 0.0000, 0.0000,\n",
       "           0.0000, 0.0000, 0.0000, 0.0000, 0.0000, 0.0000, 0.0000, 0.0000,\n",
       "           0.0000, 0.0000, 0.0000, 0.0000],\n",
       "          [0.0000, 0.0000, 0.0000, 0.0000, 0.0000, 0.0000, 0.0000, 0.0000,\n",
       "           0.0000, 0.0000, 0.0000, 0.0000, 0.0000, 0.0000, 0.0000, 0.0000,\n",
       "           0.0000, 0.0000, 0.0000, 0.0000, 0.0000, 0.0000, 0.0000, 0.0000,\n",
       "           0.0000, 0.0000, 0.0000, 0.0000],\n",
       "          [0.0000, 0.0000, 0.0000, 0.0000, 0.0000, 0.0000, 0.0000, 0.0000,\n",
       "           0.0000, 0.0000, 0.0000, 0.0000, 0.0000, 0.0000, 0.0000, 0.0000,\n",
       "           0.0000, 0.0000, 0.0000, 0.0000, 0.0000, 0.0000, 0.0000, 0.0000,\n",
       "           0.0000, 0.0000, 0.0000, 0.0000],\n",
       "          [0.0000, 0.0000, 0.0000, 0.0000, 0.0000, 0.0000, 0.0000, 0.0000,\n",
       "           0.0000, 0.0000, 0.0000, 0.0000, 0.0039, 0.0000, 0.0000, 0.0510,\n",
       "           0.2863, 0.0000, 0.0000, 0.0039, 0.0157, 0.0000, 0.0000, 0.0000,\n",
       "           0.0000, 0.0039, 0.0039, 0.0000],\n",
       "          [0.0000, 0.0000, 0.0000, 0.0000, 0.0000, 0.0000, 0.0000, 0.0000,\n",
       "           0.0000, 0.0000, 0.0000, 0.0000, 0.0118, 0.0000, 0.1412, 0.5333,\n",
       "           0.4980, 0.2431, 0.2118, 0.0000, 0.0000, 0.0000, 0.0039, 0.0118,\n",
       "           0.0157, 0.0000, 0.0000, 0.0118],\n",
       "          [0.0000, 0.0000, 0.0000, 0.0000, 0.0000, 0.0000, 0.0000, 0.0000,\n",
       "           0.0000, 0.0000, 0.0000, 0.0000, 0.0235, 0.0000, 0.4000, 0.8000,\n",
       "           0.6902, 0.5255, 0.5647, 0.4824, 0.0902, 0.0000, 0.0000, 0.0000,\n",
       "           0.0000, 0.0471, 0.0392, 0.0000],\n",
       "          [0.0000, 0.0000, 0.0000, 0.0000, 0.0000, 0.0000, 0.0000, 0.0000,\n",
       "           0.0000, 0.0000, 0.0000, 0.0000, 0.0000, 0.0000, 0.6078, 0.9255,\n",
       "           0.8118, 0.6980, 0.4196, 0.6118, 0.6314, 0.4275, 0.2510, 0.0902,\n",
       "           0.3020, 0.5098, 0.2824, 0.0588],\n",
       "          [0.0000, 0.0000, 0.0000, 0.0000, 0.0000, 0.0000, 0.0000, 0.0000,\n",
       "           0.0000, 0.0000, 0.0000, 0.0039, 0.0000, 0.2706, 0.8118, 0.8745,\n",
       "           0.8549, 0.8471, 0.8471, 0.6392, 0.4980, 0.4745, 0.4784, 0.5725,\n",
       "           0.5529, 0.3451, 0.6745, 0.2588],\n",
       "          [0.0000, 0.0000, 0.0000, 0.0000, 0.0000, 0.0000, 0.0000, 0.0000,\n",
       "           0.0000, 0.0039, 0.0039, 0.0039, 0.0000, 0.7843, 0.9098, 0.9098,\n",
       "           0.9137, 0.8980, 0.8745, 0.8745, 0.8431, 0.8353, 0.6431, 0.4980,\n",
       "           0.4824, 0.7686, 0.8980, 0.0000],\n",
       "          [0.0000, 0.0000, 0.0000, 0.0000, 0.0000, 0.0000, 0.0000, 0.0000,\n",
       "           0.0000, 0.0000, 0.0000, 0.0000, 0.0000, 0.7176, 0.8824, 0.8471,\n",
       "           0.8745, 0.8941, 0.9216, 0.8902, 0.8784, 0.8706, 0.8784, 0.8667,\n",
       "           0.8745, 0.9608, 0.6784, 0.0000],\n",
       "          [0.0000, 0.0000, 0.0000, 0.0000, 0.0000, 0.0000, 0.0000, 0.0000,\n",
       "           0.0000, 0.0000, 0.0000, 0.0000, 0.0000, 0.7569, 0.8941, 0.8549,\n",
       "           0.8353, 0.7765, 0.7059, 0.8314, 0.8235, 0.8275, 0.8353, 0.8745,\n",
       "           0.8627, 0.9529, 0.7922, 0.0000],\n",
       "          [0.0000, 0.0000, 0.0000, 0.0000, 0.0000, 0.0000, 0.0000, 0.0000,\n",
       "           0.0000, 0.0039, 0.0118, 0.0000, 0.0471, 0.8588, 0.8627, 0.8314,\n",
       "           0.8549, 0.7529, 0.6627, 0.8902, 0.8157, 0.8549, 0.8784, 0.8314,\n",
       "           0.8863, 0.7725, 0.8196, 0.2039],\n",
       "          [0.0000, 0.0000, 0.0000, 0.0000, 0.0000, 0.0000, 0.0000, 0.0000,\n",
       "           0.0000, 0.0000, 0.0235, 0.0000, 0.3882, 0.9569, 0.8706, 0.8627,\n",
       "           0.8549, 0.7961, 0.7765, 0.8667, 0.8431, 0.8353, 0.8706, 0.8627,\n",
       "           0.9608, 0.4667, 0.6549, 0.2196],\n",
       "          [0.0000, 0.0000, 0.0000, 0.0000, 0.0000, 0.0000, 0.0000, 0.0000,\n",
       "           0.0000, 0.0157, 0.0000, 0.0000, 0.2157, 0.9255, 0.8941, 0.9020,\n",
       "           0.8941, 0.9412, 0.9098, 0.8353, 0.8549, 0.8745, 0.9176, 0.8510,\n",
       "           0.8510, 0.8196, 0.3608, 0.0000],\n",
       "          [0.0000, 0.0000, 0.0039, 0.0157, 0.0235, 0.0275, 0.0078, 0.0000,\n",
       "           0.0000, 0.0000, 0.0000, 0.0000, 0.9294, 0.8863, 0.8510, 0.8745,\n",
       "           0.8706, 0.8588, 0.8706, 0.8667, 0.8471, 0.8745, 0.8980, 0.8431,\n",
       "           0.8549, 1.0000, 0.3020, 0.0000],\n",
       "          [0.0000, 0.0118, 0.0000, 0.0000, 0.0000, 0.0000, 0.0000, 0.0000,\n",
       "           0.0000, 0.2431, 0.5686, 0.8000, 0.8941, 0.8118, 0.8353, 0.8667,\n",
       "           0.8549, 0.8157, 0.8275, 0.8549, 0.8784, 0.8745, 0.8588, 0.8431,\n",
       "           0.8784, 0.9569, 0.6235, 0.0000],\n",
       "          [0.0000, 0.0000, 0.0000, 0.0000, 0.0706, 0.1725, 0.3216, 0.4196,\n",
       "           0.7412, 0.8941, 0.8627, 0.8706, 0.8510, 0.8863, 0.7843, 0.8039,\n",
       "           0.8275, 0.9020, 0.8784, 0.9176, 0.6902, 0.7373, 0.9804, 0.9725,\n",
       "           0.9137, 0.9333, 0.8431, 0.0000],\n",
       "          [0.0000, 0.2235, 0.7333, 0.8157, 0.8784, 0.8667, 0.8784, 0.8157,\n",
       "           0.8000, 0.8392, 0.8157, 0.8196, 0.7843, 0.6235, 0.9608, 0.7569,\n",
       "           0.8078, 0.8745, 1.0000, 1.0000, 0.8667, 0.9176, 0.8667, 0.8275,\n",
       "           0.8627, 0.9098, 0.9647, 0.0000],\n",
       "          [0.0118, 0.7922, 0.8941, 0.8784, 0.8667, 0.8275, 0.8275, 0.8392,\n",
       "           0.8039, 0.8039, 0.8039, 0.8627, 0.9412, 0.3137, 0.5882, 1.0000,\n",
       "           0.8980, 0.8667, 0.7373, 0.6039, 0.7490, 0.8235, 0.8000, 0.8196,\n",
       "           0.8706, 0.8941, 0.8824, 0.0000],\n",
       "          [0.3843, 0.9137, 0.7765, 0.8235, 0.8706, 0.8980, 0.8980, 0.9176,\n",
       "           0.9765, 0.8627, 0.7608, 0.8431, 0.8510, 0.9451, 0.2549, 0.2863,\n",
       "           0.4157, 0.4588, 0.6588, 0.8588, 0.8667, 0.8431, 0.8510, 0.8745,\n",
       "           0.8745, 0.8784, 0.8980, 0.1137],\n",
       "          [0.2941, 0.8000, 0.8314, 0.8000, 0.7569, 0.8039, 0.8275, 0.8824,\n",
       "           0.8471, 0.7255, 0.7725, 0.8078, 0.7765, 0.8353, 0.9412, 0.7647,\n",
       "           0.8902, 0.9608, 0.9373, 0.8745, 0.8549, 0.8314, 0.8196, 0.8706,\n",
       "           0.8627, 0.8667, 0.9020, 0.2627],\n",
       "          [0.1882, 0.7961, 0.7176, 0.7608, 0.8353, 0.7725, 0.7255, 0.7451,\n",
       "           0.7608, 0.7529, 0.7922, 0.8392, 0.8588, 0.8667, 0.8627, 0.9255,\n",
       "           0.8824, 0.8471, 0.7804, 0.8078, 0.7294, 0.7098, 0.6941, 0.6745,\n",
       "           0.7098, 0.8039, 0.8078, 0.4510],\n",
       "          [0.0000, 0.4784, 0.8588, 0.7569, 0.7020, 0.6706, 0.7176, 0.7686,\n",
       "           0.8000, 0.8235, 0.8353, 0.8118, 0.8275, 0.8235, 0.7843, 0.7686,\n",
       "           0.7608, 0.7490, 0.7647, 0.7490, 0.7765, 0.7529, 0.6902, 0.6118,\n",
       "           0.6549, 0.6941, 0.8235, 0.3608],\n",
       "          [0.0000, 0.0000, 0.2902, 0.7412, 0.8314, 0.7490, 0.6863, 0.6745,\n",
       "           0.6863, 0.7098, 0.7255, 0.7373, 0.7412, 0.7373, 0.7569, 0.7765,\n",
       "           0.8000, 0.8196, 0.8235, 0.8235, 0.8275, 0.7373, 0.7373, 0.7608,\n",
       "           0.7529, 0.8471, 0.6667, 0.0000],\n",
       "          [0.0078, 0.0000, 0.0000, 0.0000, 0.2588, 0.7843, 0.8706, 0.9294,\n",
       "           0.9373, 0.9490, 0.9647, 0.9529, 0.9569, 0.8667, 0.8627, 0.7569,\n",
       "           0.7490, 0.7020, 0.7137, 0.7137, 0.7098, 0.6902, 0.6510, 0.6588,\n",
       "           0.3882, 0.2275, 0.0000, 0.0000],\n",
       "          [0.0000, 0.0000, 0.0000, 0.0000, 0.0000, 0.0000, 0.0000, 0.1569,\n",
       "           0.2392, 0.1725, 0.2824, 0.1608, 0.1373, 0.0000, 0.0000, 0.0000,\n",
       "           0.0000, 0.0000, 0.0000, 0.0000, 0.0000, 0.0000, 0.0000, 0.0000,\n",
       "           0.0000, 0.0000, 0.0000, 0.0000],\n",
       "          [0.0000, 0.0000, 0.0000, 0.0000, 0.0000, 0.0000, 0.0000, 0.0000,\n",
       "           0.0000, 0.0000, 0.0000, 0.0000, 0.0000, 0.0000, 0.0000, 0.0000,\n",
       "           0.0000, 0.0000, 0.0000, 0.0000, 0.0000, 0.0000, 0.0000, 0.0000,\n",
       "           0.0000, 0.0000, 0.0000, 0.0000],\n",
       "          [0.0000, 0.0000, 0.0000, 0.0000, 0.0000, 0.0000, 0.0000, 0.0000,\n",
       "           0.0000, 0.0000, 0.0000, 0.0000, 0.0000, 0.0000, 0.0000, 0.0000,\n",
       "           0.0000, 0.0000, 0.0000, 0.0000, 0.0000, 0.0000, 0.0000, 0.0000,\n",
       "           0.0000, 0.0000, 0.0000, 0.0000]]]),\n",
       " 9)"
      ]
     },
     "execution_count": 6,
     "metadata": {},
     "output_type": "execute_result"
    }
   ],
   "source": [
    "image, label = train_data[0]\n",
    "image, label"
   ]
  },
  {
   "cell_type": "code",
   "execution_count": 7,
   "id": "4b7a78e7",
   "metadata": {},
   "outputs": [
    {
     "data": {
      "text/plain": [
       "({'T-shirt/top': 0,\n",
       "  'Trouser': 1,\n",
       "  'Pullover': 2,\n",
       "  'Dress': 3,\n",
       "  'Coat': 4,\n",
       "  'Sandal': 5,\n",
       "  'Shirt': 6,\n",
       "  'Sneaker': 7,\n",
       "  'Bag': 8,\n",
       "  'Ankle boot': 9},\n",
       " ['T-shirt/top',\n",
       "  'Trouser',\n",
       "  'Pullover',\n",
       "  'Dress',\n",
       "  'Coat',\n",
       "  'Sandal',\n",
       "  'Shirt',\n",
       "  'Sneaker',\n",
       "  'Bag',\n",
       "  'Ankle boot'],\n",
       " tensor([9, 0, 0,  ..., 3, 0, 5]))"
      ]
     },
     "execution_count": 7,
     "metadata": {},
     "output_type": "execute_result"
    }
   ],
   "source": [
    "class_to_idx = train_data.class_to_idx\n",
    "class_names = train_data.classes\n",
    "train_targets = train_data.targets\n",
    "class_to_idx, class_names, train_targets"
   ]
  },
  {
   "cell_type": "code",
   "execution_count": 10,
   "id": "8824110c",
   "metadata": {},
   "outputs": [
    {
     "name": "stdout",
     "output_type": "stream",
     "text": [
      "Image Shape: torch.Size([1, 28, 28]), -> [color_channels, height, width]\n",
      "Image Label: Ankle boot\n"
     ]
    }
   ],
   "source": [
    "# Check Input and Output Shapes\n",
    "print(f'Image Shape: {image.shape}, -> [color_channels, height, width]')\n",
    "print(f'Image Label: {class_names[label]}')"
   ]
  },
  {
   "cell_type": "markdown",
   "id": "91b1c643",
   "metadata": {},
   "source": [
    "#### 1.2. Visualizing our Data"
   ]
  },
  {
   "cell_type": "code",
   "execution_count": 7,
   "id": "ce3db1b7",
   "metadata": {},
   "outputs": [
    {
     "name": "stdout",
     "output_type": "stream",
     "text": [
      "Image Shape: torch.Size([1, 28, 28])\n"
     ]
    },
    {
     "data": {
      "text/plain": [
       "(np.float64(-0.5), np.float64(27.5), np.float64(27.5), np.float64(-0.5))"
      ]
     },
     "execution_count": 7,
     "metadata": {},
     "output_type": "execute_result"
    },
    {
     "data": {
      "image/png": "[encoded data removed]",
      "text/plain": [
       "<Figure size 300x300 with 1 Axes>"
      ]
     },
     "metadata": {},
     "output_type": "display_data"
    }
   ],
   "source": [
    "# Visulize 1 Image Data\n",
    "image, label = train_data[0]\n",
    "print(f'Image Shape: {image.shape}')\n",
    "plt.figure(figsize=(3,3))\n",
    "plt.imshow(image.squeeze(), cmap='gray'); plt.title(f'{class_names[label]}: {label}'); plt.axis(False)"
   ]
  },
  {
   "cell_type": "code",
   "execution_count": 8,
   "id": "d7f5a9db",
   "metadata": {},
   "outputs": [
    {
     "data": {
      "image/png": "[encoded data removed]",
      "text/plain": [
       "<Figure size 900x900 with 25 Axes>"
      ]
     },
     "metadata": {},
     "output_type": "display_data"
    }
   ],
   "source": [
    " # Plot more images\n",
    "# torch.manual_seed(MY_SEED); torch.cuda.manual_seed(MY_SEED)\n",
    "\n",
    "fig = plt.figure(figsize=(9,9))\n",
    "rows, cols =5, 5\n",
    "\n",
    "for i in range(1, rows*cols+1):\n",
    "    random_idx = torch.randint(0, len(train_data), size=[1]).item()\n",
    "    img, label = train_data[random_idx]\n",
    "    fig.add_subplot(rows, cols, i)\n",
    "    plt.imshow(img.squeeze(), cmap='gray'); plt.title(f'{class_names[label]}: {label}'); plt.axis(False)"
   ]
  },
  {
   "cell_type": "markdown",
   "id": "04cbcba5",
   "metadata": {},
   "source": [
    "### 2. Prepare DataLoader\n",
    "\n",
    "Right now, our data is in the form oh PyTorch Datasets.\n",
    "\n",
    "DataLoader turns our dataset into a Python iterable. More specifically, we want to turn our data into **Minibatches!!!**\n",
    "\n",
    "But, why?\n",
    "1. More computationally efficient. Instead of look 60000 images at a time, our computer only has to see 32 images (`batch_size=32`) at a time.\n",
    "2. It gives our neural network more chances to update it gradient per epoch."
   ]
  },
  {
   "cell_type": "code",
   "execution_count": 9,
   "id": "d7af5b64",
   "metadata": {},
   "outputs": [
    {
     "data": {
      "text/plain": [
       "(Dataset FashionMNIST\n",
       "     Number of datapoints: 60000\n",
       "     Root location: data\n",
       "     Split: Train\n",
       "     StandardTransform\n",
       " Transform: ToTensor(),\n",
       " Dataset FashionMNIST\n",
       "     Number of datapoints: 10000\n",
       "     Root location: data\n",
       "     Split: Test\n",
       "     StandardTransform\n",
       " Transform: ToTensor())"
      ]
     },
     "execution_count": 9,
     "metadata": {},
     "output_type": "execute_result"
    }
   ],
   "source": [
    "# Original Train and Test Data\n",
    "train_data, test_data"
   ]
  },
  {
   "cell_type": "code",
   "execution_count": 10,
   "id": "bc19e632",
   "metadata": {},
   "outputs": [
    {
     "data": {
      "text/plain": [
       "(<torch.utils.data.dataloader.DataLoader at 0x25b07197e00>,\n",
       " <torch.utils.data.dataloader.DataLoader at 0x25b092ab610>)"
      ]
     },
     "execution_count": 10,
     "metadata": {},
     "output_type": "execute_result"
    }
   ],
   "source": [
    "# Data Loading\n",
    "from torch.utils.data import DataLoader\n",
    "BATCH_SIZE = 32 # Hyperparameter\n",
    "train_dataloader = DataLoader(dataset=train_data, batch_size=BATCH_SIZE, shuffle=True)\n",
    "test_dataloader = DataLoader(dataset=test_data, batch_size=BATCH_SIZE, shuffle=False) # --> Recommended not to Shuffle the Test Data\n",
    "train_dataloader, test_dataloader"
   ]
  },
  {
   "cell_type": "code",
   "execution_count": 11,
   "id": "dd1da110",
   "metadata": {},
   "outputs": [
    {
     "name": "stdout",
     "output_type": "stream",
     "text": [
      "DataLoaders: (<torch.utils.data.dataloader.DataLoader object at 0x0000025B07197E00>, <torch.utils.data.dataloader.DataLoader object at 0x0000025B092AB610>)\n",
      "Length of train_dataloader: 1875 batches of 32...\n",
      "Length of test_dataloader:  313  batches of 32...\n"
     ]
    }
   ],
   "source": [
    "# Let-s checkout what we have created\n",
    "print(f'DataLoaders: {train_dataloader, test_dataloader}')\n",
    "print(f'Length of train_dataloader: {len(train_dataloader)} batches of {BATCH_SIZE}...')\n",
    "print(f'Length of test_dataloader:  {len(test_dataloader)}  batches of {BATCH_SIZE}...')"
   ]
  },
  {
   "cell_type": "code",
   "execution_count": 12,
   "id": "8b1da1b2",
   "metadata": {},
   "outputs": [
    {
     "data": {
      "text/plain": [
       "(torch.Size([32, 1, 28, 28]), torch.Size([32]))"
      ]
     },
     "execution_count": 12,
     "metadata": {},
     "output_type": "execute_result"
    }
   ],
   "source": [
    "# Checkout what's inside of our training dataloader\n",
    "train_features_batch, train_labels_batch = next(iter(train_dataloader))\n",
    "train_features_batch.shape, train_labels_batch.shape"
   ]
  },
  {
   "cell_type": "code",
   "execution_count": 13,
   "id": "8003929d",
   "metadata": {},
   "outputs": [
    {
     "name": "stdout",
     "output_type": "stream",
     "text": [
      "Image Shape: torch.Size([1, 28, 28])\n",
      "Label Shape: torch.Size([])\n"
     ]
    },
    {
     "data": {
      "image/png": "[encoded data removed]",
      "text/plain": [
       "<Figure size 640x480 with 1 Axes>"
      ]
     },
     "metadata": {},
     "output_type": "display_data"
    }
   ],
   "source": [
    "# Show a sample of the batch we just created\n",
    "torch.manual_seed(MY_SEED)\n",
    "random_idx = torch.randint(0, len(train_features_batch), size=[1]).item()\n",
    "img, label = train_features_batch[random_idx], train_labels_batch[random_idx]\n",
    "plt.imshow(img.squeeze(), cmap='gray'); plt.axis(False); plt.title(class_names[label])\n",
    "print(f'Image Shape: {img.shape}')\n",
    "print(f'Label Shape: {label.shape}')"
   ]
  },
  {
   "cell_type": "markdown",
   "id": "79a7192f",
   "metadata": {},
   "source": [
    "### 3. Model 0: Build a baseline model\n",
    "\n",
    "When starting to build a series of machine learning modeeling experiments, it's best to practice to start with a baseline model.\n",
    "\n",
    "A baseline model is a simple model you will try and improve upon a subsequent models/experiments\n",
    "\n",
    "In other words: Start simply and add complexity when necessary."
   ]
  },
  {
   "cell_type": "code",
   "execution_count": 14,
   "id": "eda437e3",
   "metadata": {},
   "outputs": [
    {
     "name": "stdout",
     "output_type": "stream",
     "text": [
      "Shape before: torch.Size([1, 28, 28])\n",
      "Shape after: torch.Size([1, 784])\n"
     ]
    }
   ],
   "source": [
    "# Create a flatten layer\n",
    "flatten_model = nn.Flatten()\n",
    "\n",
    "# Get a simple image from the already created batch\n",
    "x = train_features_batch[0]    # --> [color_channels, height, width]\n",
    "flattened_x = flatten_model(x) # --> [color_channels, height*width]\n",
    "print(f'Shape before: {x.shape}')\n",
    "print(f'Shape after: {flattened_x.shape}')\n"
   ]
  },
  {
   "cell_type": "code",
   "execution_count": 15,
   "id": "5ec0da64",
   "metadata": {},
   "outputs": [
    {
     "data": {
      "text/plain": [
       "FashionMNISTModelV0(\n",
       "  (layer_stack): Sequential(\n",
       "    (0): Flatten(start_dim=1, end_dim=-1)\n",
       "    (1): Linear(in_features=784, out_features=10, bias=True)\n",
       "    (2): Linear(in_features=10, out_features=10, bias=True)\n",
       "  )\n",
       ")"
      ]
     },
     "execution_count": 15,
     "metadata": {},
     "output_type": "execute_result"
    }
   ],
   "source": [
    "# Build the Model Structure\n",
    "\n",
    "class FashionMNISTModelV0(nn.Module):\n",
    "    def __init__(self, input_shape: int, output_shape: int, hidden_units: int):\n",
    "        super().__init__()\n",
    "\n",
    "        self.layer_stack = nn.Sequential(\n",
    "            nn.Flatten(),\n",
    "            nn.Linear(in_features=input_shape, out_features=hidden_units),\n",
    "            nn.Linear(in_features=hidden_units, out_features=output_shape)\n",
    "        )\n",
    "\n",
    "    def forward(self,x):\n",
    "        return self.layer_stack(x)\n",
    "    \n",
    "torch.manual_seed(MY_SEED); torch.cuda.manual_seed(MY_SEED)\n",
    "model_0 = FashionMNISTModelV0(input_shape=28*28, output_shape=len(class_names), hidden_units=10).to('cpu')\n",
    "model_0\n"
   ]
  },
  {
   "cell_type": "code",
   "execution_count": 16,
   "id": "5ab49a61",
   "metadata": {},
   "outputs": [
    {
     "data": {
      "text/plain": [
       "(tensor([[-0.0315,  0.3171,  0.0531, -0.2525,  0.5959,  0.2112,  0.3233,  0.2694,\n",
       "          -0.1004,  0.0157]]),\n",
       " torch.Size([1, 10]),\n",
       " tensor([[0.0819, 0.1160, 0.0891, 0.0656, 0.1533, 0.1044, 0.1167, 0.1106, 0.0764,\n",
       "          0.0858]]),\n",
       " tensor([4]))"
      ]
     },
     "execution_count": 16,
     "metadata": {},
     "output_type": "execute_result"
    }
   ],
   "source": [
    "dummy_x = torch.rand([1, 1, 28, 28])\n",
    "\n",
    "model_0.eval()\n",
    "with torch.inference_mode():\n",
    "    a = model_0(dummy_x)\n",
    "b = torch.softmax(a, dim=1); c = torch.argmax(b, dim=1)\n",
    "a, a.shape, b, c"
   ]
  },
  {
   "cell_type": "markdown",
   "id": "77da77b1",
   "metadata": {},
   "source": [
    "#### 3.1. Loss Function and Optimizer\n",
    "* Loss Function: `nn.CrossEntropyLoss` --> since we're working with MultiClass Classification\n",
    "* Optimizer: `torch.optim.SGD()`\n",
    "* Metric: Accuracy"
   ]
  },
  {
   "cell_type": "code",
   "execution_count": 17,
   "id": "8397a845",
   "metadata": {},
   "outputs": [
    {
     "name": "stdout",
     "output_type": "stream",
     "text": [
      "helper_functions.py already exists, skipping download...\n"
     ]
    }
   ],
   "source": [
    "import requests\n",
    "from pathlib import Path\n",
    "\n",
    "# Download helper functions\n",
    "if Path('helper_functions.py').is_file():\n",
    "    print('helper_functions.py already exists, skipping download...')\n",
    "\n",
    "else:\n",
    "    print('Downloding helper_functions.py')\n",
    "    request = requests.get('https://raw.githubusercontent.com/mrdbourke/pytorch-deep-learning/refs/heads/main/helper_functions.py')\n",
    "    with open('helper_functions.py', 'wb') as f:\n",
    "        f.write(request.content)"
   ]
  },
  {
   "cell_type": "code",
   "execution_count": 18,
   "id": "2981e7f0",
   "metadata": {},
   "outputs": [],
   "source": [
    "# Import accuracy metric\n",
    "from helper_functions import accuracy_fn\n",
    "import time\n",
    "\n",
    "# Loss Function & Optimizer\n",
    "criterion_0 = nn.CrossEntropyLoss()\n",
    "optimizer_0 = torch.optim.SGD(params=model_0.parameters(), lr=0.01)"
   ]
  },
  {
   "cell_type": "markdown",
   "id": "b71dac8d",
   "metadata": {},
   "source": [
    "#### 3.2. Creating a Function to Time our experiments\n",
    "\n",
    "ML is very experimental.\n",
    "Tow of the main thing you'll often want to track are:\n",
    "* **Model's performance:** (loss & accuracy values)\n",
    "* **How fast it runs**"
   ]
  },
  {
   "cell_type": "code",
   "execution_count": 19,
   "id": "81275eaf",
   "metadata": {},
   "outputs": [],
   "source": [
    "def print_train_time(start: float, end: float, device: torch.device = None):\n",
    "\n",
    "    \"\"\"Prints difference bwteen start and end time.\"\"\"\n",
    "    total_time = end-start\n",
    "    print(f'{'-'*60}\\nTrain Time on {device}: {total_time:.3f} seconds')\n",
    "    return total_time"
   ]
  },
  {
   "cell_type": "code",
   "execution_count": 20,
   "id": "290559a0",
   "metadata": {},
   "outputs": [
    {
     "name": "stdout",
     "output_type": "stream",
     "text": [
      "------------------------------------------------------------\n",
      "Train Time on cpu: 0.000 seconds\n"
     ]
    },
    {
     "data": {
      "text/plain": [
       "1.7499987734481692e-05"
      ]
     },
     "execution_count": 20,
     "metadata": {},
     "output_type": "execute_result"
    }
   ],
   "source": [
    "from timeit import default_timer as timer\n",
    "start_time = timer()\n",
    "stop_time = timer()\n",
    "print_train_time(start=start_time, end=stop_time, device = 'cpu')"
   ]
  },
  {
   "cell_type": "markdown",
   "id": "d618c9d5",
   "metadata": {},
   "source": [
    "#### 3.3. Creating a Training Loop with Batches"
   ]
  },
  {
   "cell_type": "code",
   "execution_count": 21,
   "id": "d5f27e0c",
   "metadata": {},
   "outputs": [
    {
     "data": {
      "application/vnd.jupyter.widget-view+json": {
       "model_id": "dfd80506c91b47dbafaa2e72aedb4530",
       "version_major": 2,
       "version_minor": 0
      },
      "text/plain": [
       "  0%|          | 0/3 [00:00<?, ?it/s]"
      ]
     },
     "metadata": {},
     "output_type": "display_data"
    },
    {
     "name": "stdout",
     "output_type": "stream",
     "text": [
      "------------------------------------------------------------\n",
      "Epoch: 0\n",
      "Looked at 0 / 60000 samples.\n",
      "Looked at 12800 / 60000 samples.\n",
      "Looked at 25600 / 60000 samples.\n",
      "Looked at 38400 / 60000 samples.\n",
      "Looked at 51200 / 60000 samples.\n",
      "Train_Loss: 0.9096 | Train_Acc: 70.87% | Test_Loss: 0.6290 | Test_Acc: 78.63%\n",
      "------------------------------------------------------------\n",
      "Epoch: 1\n",
      "Looked at 0 / 60000 samples.\n",
      "Looked at 12800 / 60000 samples.\n",
      "Looked at 25600 / 60000 samples.\n",
      "Looked at 38400 / 60000 samples.\n",
      "Looked at 51200 / 60000 samples.\n",
      "Train_Loss: 0.5573 | Train_Acc: 81.09% | Test_Loss: 0.5441 | Test_Acc: 81.13%\n",
      "------------------------------------------------------------\n",
      "Epoch: 2\n",
      "Looked at 0 / 60000 samples.\n",
      "Looked at 12800 / 60000 samples.\n",
      "Looked at 25600 / 60000 samples.\n",
      "Looked at 38400 / 60000 samples.\n",
      "Looked at 51200 / 60000 samples.\n",
      "Train_Loss: 0.5027 | Train_Acc: 82.75% | Test_Loss: 0.5137 | Test_Acc: 82.00%\n",
      "------------------------------------------------------------\n",
      "Train Time on cpu: 27.330 seconds\n"
     ]
    }
   ],
   "source": [
    "# Import tqdm for Progress Bar\n",
    "from tqdm.auto import tqdm\n",
    "\n",
    "# Set the seed and start the timer\n",
    "torch.manual_seed(MY_SEED); torch.cuda.manual_seed(MY_SEED)\n",
    "train_start_time_on_cpu = timer()\n",
    "\n",
    "# HYPERPARAMETERS\n",
    "EPOCHS = 3; i =0\n",
    "\n",
    "# Create Training/Test Loop\n",
    "for epoch in tqdm(range(EPOCHS)):\n",
    "    print(f'{'-'*60}\\nEpoch: {epoch}')\n",
    "    \n",
    "    # Training\n",
    "    epoch_loss = 0      # --> Loss per Epoch\n",
    "    epoch_acc = 0       # --> Acc per Epoch\n",
    "    test_epoch_loss = 0 # --> Test_Loss per Epoch\n",
    "    test_epoch_acc = 0  # --> Test_Acc per Epoch\n",
    "\n",
    "    # Loop for Training Batches\n",
    "    for batch, (X_train_batch, y_train_batch) in enumerate(train_dataloader):\n",
    "        model_0.train()\n",
    "        output = model_0(X_train_batch); probs = torch.softmax(output, dim=1); preds = torch.argmax(probs, dim=1)\n",
    "        loss = criterion_0(output, y_train_batch) # --> Loss per Batch\n",
    "        epoch_loss += loss # Accumulate Train Loss\n",
    "        acc = accuracy_fn(y_true=y_train_batch, y_pred=preds)\n",
    "        epoch_acc += acc\n",
    "        optimizer_0.zero_grad()\n",
    "        loss.backward()\n",
    "        optimizer_0.step()\n",
    "\n",
    "        if (batch % 400 == 0):\n",
    "            print(f'Looked at {batch * len(X_train_batch)} / {len(train_dataloader.dataset)} samples.')\n",
    "    \n",
    "    # Calculate Train Loss and Accuracy per EPOCH\n",
    "    epoch_loss = epoch_loss/len(train_dataloader)\n",
    "    epoch_acc  = epoch_acc/len(train_dataloader)\n",
    "\n",
    "    # Testing\n",
    "    test_loss, test_acc = 0, 0\n",
    "    model_0.eval()\n",
    "    with torch.inference_mode():\n",
    "        for X_test_batch, y_test_batch in test_dataloader:\n",
    "            test_output = model_0(X_test_batch)\n",
    "            test_probs = torch.softmax(test_output, dim=1); test_preds = torch.argmax(test_probs, dim=1); \n",
    "            test_loss = criterion_0(test_output, y_test_batch)\n",
    "            test_epoch_loss += test_loss\n",
    "            test_acc = accuracy_fn(y_true=y_test_batch, y_pred=test_preds)\n",
    "            test_epoch_acc += test_acc\n",
    "        \n",
    "        # Caclulate Test Loss and Accuracy per EPOCH\n",
    "        test_epoch_loss = test_epoch_loss/len(test_dataloader)\n",
    "        test_epoch_acc  = test_epoch_acc/len(test_dataloader)\n",
    "\n",
    "    print(f'Train_Loss: {epoch_loss:.4f} | Train_Acc: {epoch_acc:.2f}% | Test_Loss: {test_epoch_loss:.4f} | Test_Acc: {test_epoch_acc:.2f}%')\n",
    "\n",
    "train_end_time_on_cpu = timer()\n",
    "total_train_time_model_0 = print_train_time(start=train_start_time_on_cpu, end=train_end_time_on_cpu, device=str(next(model_0.parameters()).device))\n"
   ]
  },
  {
   "cell_type": "markdown",
   "id": "50b8d79b",
   "metadata": {},
   "source": [
    "### 4. Make Predictions and get model_0 Results"
   ]
  },
  {
   "cell_type": "code",
   "execution_count": 22,
   "id": "1b742bc1",
   "metadata": {},
   "outputs": [
    {
     "data": {
      "application/vnd.jupyter.widget-view+json": {
       "model_id": "1b53b860df184a0681c62d8a9eccfefe",
       "version_major": 2,
       "version_minor": 0
      },
      "text/plain": [
       "  0%|          | 0/313 [00:00<?, ?it/s]"
      ]
     },
     "metadata": {},
     "output_type": "display_data"
    },
    {
     "data": {
      "text/plain": [
       "{'model_name': 'FashionMNISTModelV0',\n",
       " 'model_loss': 0.5136752128601074,\n",
       " 'model_acc': 81.9988019169329}"
      ]
     },
     "execution_count": 22,
     "metadata": {},
     "output_type": "execute_result"
    }
   ],
   "source": [
    "# Evaluate Model Function\n",
    "\n",
    "def eval_model(model: torch.nn.Module, data_loader: torch.utils.data.DataLoader, loss_fn: torch.nn.Module, accuracy_fn, device: torch.device = 'cpu'):\n",
    "    \"\"\"Returns a dictionary containing the results of the model predicting on data_loader.\"\"\" \n",
    "\n",
    "    loss, acc = 0, 0\n",
    "    model.eval()\n",
    "    with torch.inference_mode():\n",
    "        for X, y in tqdm(data_loader):\n",
    "            X, y = X.to(device), y.to(device)\n",
    "            # Make Predictions\n",
    "            outputs = model(X)\n",
    "            probs = torch.softmax(outputs, dim=1)\n",
    "            preds = torch.argmax(probs, dim=1)\n",
    "            \n",
    "            # Accumulate Loss and Accuracy\n",
    "            loss += loss_fn(outputs, y)\n",
    "            acc += accuracy_fn(y, preds)\n",
    "\n",
    "        # Scale loss and acc to find average loss/acc per epoch\n",
    "        loss /= len(data_loader)\n",
    "        acc  /= len(data_loader)\n",
    "\n",
    "        return {\"model_name\": model.__class__.__name__,\n",
    "                \"model_loss\": loss.item(),\n",
    "                \"model_acc\": acc}\n",
    "\n",
    "model_0_results = eval_model(model_0, test_dataloader, criterion_0, accuracy_fn=accuracy_fn)\n",
    "model_0_results"
   ]
  },
  {
   "cell_type": "markdown",
   "id": "156ec6fc",
   "metadata": {},
   "source": [
    "### 5. Set-up Device Agnostic Code"
   ]
  },
  {
   "cell_type": "code",
   "execution_count": 23,
   "id": "99f28caa",
   "metadata": {},
   "outputs": [
    {
     "name": "stdout",
     "output_type": "stream",
     "text": [
      "Device: cuda\n"
     ]
    }
   ],
   "source": [
    "# Device Agnositc Code --> In THIS case my code is running faster on the cpu, so I'll set device=cpu\n",
    "device = 'cuda' if torch.cuda.is_available() else 'cpu'; print(f'Device: {device}'); device = 'cpu'"
   ]
  },
  {
   "cell_type": "markdown",
   "id": "c21ee30f",
   "metadata": {},
   "source": [
    "#### 5.1. Model 1: Building a better model with non-linearity\n",
    "\n",
    "We learned about the power of non-linearity in notebook `02_Live_pytorch_nn_classification.ipynb`"
   ]
  },
  {
   "cell_type": "code",
   "execution_count": 24,
   "id": "386a77eb",
   "metadata": {},
   "outputs": [
    {
     "data": {
      "text/plain": [
       "(FashionMNISTModelV1(\n",
       "   (layer_stack): Sequential(\n",
       "     (0): Flatten(start_dim=1, end_dim=-1)\n",
       "     (1): Linear(in_features=784, out_features=30, bias=True)\n",
       "     (2): ReLU()\n",
       "     (3): Linear(in_features=30, out_features=10, bias=True)\n",
       "     (4): ReLU()\n",
       "   )\n",
       " ),\n",
       " device(type='cpu'))"
      ]
     },
     "execution_count": 24,
     "metadata": {},
     "output_type": "execute_result"
    }
   ],
   "source": [
    "# Building Model 1 Structure\n",
    "\n",
    "class FashionMNISTModelV1(nn.Module):\n",
    "\n",
    "    def __init__(self, input_shape: int, output_shape: int, hidden_units: int):\n",
    "        super().__init__()\n",
    "\n",
    "        self.layer_stack = nn.Sequential(\n",
    "            nn.Flatten(), \n",
    "            nn.Linear(in_features=input_shape,  out_features=hidden_units),\n",
    "            nn.ReLU(),\n",
    "            nn.Linear(in_features=hidden_units, out_features=output_shape),\n",
    "            nn.ReLU()\n",
    "        )\n",
    "\n",
    "    def forward(self, x):\n",
    "        return self.layer_stack(x)\n",
    "    \n",
    "torch.manual_seed(MY_SEED); torch.cuda.manual_seed(MY_SEED)\n",
    "model_1 = FashionMNISTModelV1(input_shape=28*28, output_shape=len(class_names), hidden_units=30).to(device)\n",
    "model_1, next(model_1.parameters()).device"
   ]
  },
  {
   "cell_type": "markdown",
   "id": "252def54",
   "metadata": {},
   "source": [
    "#### 5.2. Setup Loss, Optimizer and Evaluation Metrics"
   ]
  },
  {
   "cell_type": "code",
   "execution_count": 25,
   "id": "09f75fdb",
   "metadata": {},
   "outputs": [],
   "source": [
    "# Libraries\n",
    "from helper_functions import accuracy_fn\n",
    "\n",
    "# Loss Function & Optimizer\n",
    "criterion_1 = nn.CrossEntropyLoss()\n",
    "optimizer_1 = torch.optim.SGD(params=model_1.parameters(), lr=0.1)"
   ]
  },
  {
   "cell_type": "markdown",
   "id": "a1ffb316",
   "metadata": {},
   "source": [
    "#### 5.3. Functionizinig Training and Evaluation/Tetsting Loops\n",
    "* Training Loop\n",
    "* Testing Loop"
   ]
  },
  {
   "cell_type": "code",
   "execution_count": 26,
   "id": "f0ef4a38",
   "metadata": {},
   "outputs": [],
   "source": [
    "def train_step(model: nn.Module, dataloader: torch.utils.data.DataLoader, criterion: torch.nn.Module,\n",
    "                optimizer: torch.optim.Optimizer, accuracy_fn, device: torch.device = device):\n",
    "    \"\"\"Performs a training epoch with model trying to learn on dataloader\"\"\"\n",
    "    model.train()\n",
    "    epoch_loss, epoch_acc = 0, 0\n",
    "\n",
    "    for batch, (X_train_batch, y_train_batch) in enumerate(dataloader):\n",
    "        X_train_batch, y_train_batch = X_train_batch.to(device), y_train_batch.to(device)\n",
    "\n",
    "        output = model(X_train_batch); probs = torch.softmax(output, dim=1); preds = torch.argmax(probs, dim=1)\n",
    "        loss = criterion(output, y_train_batch)                         # --> Loss per Batch\n",
    "        epoch_loss += loss                                              # --> Accumulate Train Loss\n",
    "        epoch_acc  += accuracy_fn(y_true=y_train_batch, y_pred=preds)   # --> Accumulate Train Accuracy\n",
    "        optimizer.zero_grad()\n",
    "        loss.backward()\n",
    "        optimizer.step()\n",
    "    \n",
    "    # Calculate Train Loss and Accuracy per EPOCH\n",
    "    epoch_loss = epoch_loss/len(dataloader)\n",
    "    epoch_acc  = epoch_acc/len(dataloader)\n",
    "    print(f'Train_Loss: {epoch_loss:.4f} | Train_Acc: {epoch_acc:.2f}%')\n",
    "\n",
    "\n",
    "def test_step(model: nn.Module, dataloader: torch.utils.data.DataLoader, criterion: torch.nn.Module, \n",
    "              accuracy_fn, device: torch.device = device):\n",
    "    \"\"\"Performs a testing epoch on model going over dataloader.\"\"\"\n",
    "    \n",
    "    test_epoch_loss, test_epoch_acc = 0, 0\n",
    "    \n",
    "    model.eval()\n",
    "    with torch.inference_mode():\n",
    "        for X_test_batch, y_test_batch in dataloader:\n",
    "            X_test_batch, y_test_batch = X_test_batch.to(device), y_test_batch.to(device)\n",
    "\n",
    "            test_outputs = model(X_test_batch)                                                          # Forward Pass\n",
    "            test_probs = torch.softmax(test_outputs, dim=1); test_preds = torch.argmax(test_probs, dim=1)     # Calculate Predictions\n",
    "            test_epoch_loss += criterion(test_outputs, y_test_batch)                                    # Accumulating Test Epoch Loss\n",
    "            test_epoch_acc  += accuracy_fn(y_test_batch, test_preds.to(device))                         # Accumulating Test Epoch Accuracy\n",
    "        \n",
    "        test_epoch_loss /= len(dataloader)\n",
    "        test_epoch_acc  /= len(dataloader)\n",
    "        print(f'Test_Loss: {test_epoch_loss:.4f} | Test_Acc: {test_epoch_acc:.2f}%')"
   ]
  },
  {
   "cell_type": "code",
   "execution_count": 27,
   "id": "5eb59205",
   "metadata": {},
   "outputs": [
    {
     "data": {
      "application/vnd.jupyter.widget-view+json": {
       "model_id": "b7ea20ebb55649049a80819a8d5f432d",
       "version_major": 2,
       "version_minor": 0
      },
      "text/plain": [
       "  0%|          | 0/3 [00:00<?, ?it/s]"
      ]
     },
     "metadata": {},
     "output_type": "display_data"
    },
    {
     "name": "stdout",
     "output_type": "stream",
     "text": [
      "------------------------------------------------------------\n",
      "Epoch: 0\n",
      "Train_Loss: 0.7272 | Train_Acc: 74.00%\n",
      "Test_Loss: 0.4709 | Test_Acc: 83.01%\n",
      "------------------------------------------------------------\n",
      "Epoch: 1\n",
      "Train_Loss: 0.4357 | Train_Acc: 84.31%\n",
      "Test_Loss: 0.4473 | Test_Acc: 84.04%\n",
      "------------------------------------------------------------\n",
      "Epoch: 2\n",
      "Train_Loss: 0.3995 | Train_Acc: 85.56%\n",
      "Test_Loss: 0.4185 | Test_Acc: 84.95%\n",
      "------------------------------------------------------------\n",
      "Train Time on cpu: 27.745 seconds\n"
     ]
    }
   ],
   "source": [
    "torch.manual_seed(MY_SEED), torch.cuda.manual_seed(MY_SEED)\n",
    "# Measure Time\n",
    "from timeit import default_timer as timer\n",
    "train_start_time_on_gpu = timer()\n",
    "\n",
    "# Set Epochs\n",
    "EPOCHS = 3\n",
    "\n",
    "# Create a optimization loop and evaluation loop using train_step() and test_step()\n",
    "for epoch in tqdm(range(EPOCHS)):\n",
    "\n",
    "    print(f'{'-'*60}\\nEpoch: {epoch}')\n",
    "\n",
    "    # Training\n",
    "    train_step(model_1, train_dataloader, criterion_1, optimizer_1, accuracy_fn, device)\n",
    "\n",
    "    # Testing\n",
    "    test_step(model_1, test_dataloader, criterion_1, accuracy_fn, device)\n",
    "\n",
    "train_end_time_on_gpu = timer()\n",
    "total_train_time_model_1 = print_train_time(start=train_start_time_on_gpu, end=train_end_time_on_gpu, device=str(next(model_1.parameters()).device))"
   ]
  },
  {
   "cell_type": "code",
   "execution_count": 28,
   "id": "22132c84",
   "metadata": {},
   "outputs": [
    {
     "data": {
      "application/vnd.jupyter.widget-view+json": {
       "model_id": "9364764ad5f646568f9cc51560169915",
       "version_major": 2,
       "version_minor": 0
      },
      "text/plain": [
       "  0%|          | 0/313 [00:00<?, ?it/s]"
      ]
     },
     "metadata": {},
     "output_type": "display_data"
    },
    {
     "data": {
      "text/plain": [
       "({'model_name': 'FashionMNISTModelV1',\n",
       "  'model_loss': 0.41847512125968933,\n",
       "  'model_acc': 84.95407348242811},\n",
       " {'model_name': 'FashionMNISTModelV0',\n",
       "  'model_loss': 0.5136752128601074,\n",
       "  'model_acc': 81.9988019169329})"
      ]
     },
     "execution_count": 28,
     "metadata": {},
     "output_type": "execute_result"
    }
   ],
   "source": [
    "# Get Model_1 results dictionary\n",
    "model_1_results = eval_model(model=model_1, data_loader=test_dataloader, loss_fn=criterion_1, accuracy_fn=accuracy_fn, device=device)\n",
    "model_1_results, model_0_results"
   ]
  },
  {
   "cell_type": "markdown",
   "id": "b656f74f",
   "metadata": {},
   "source": [
    "### 6. Model 2: Building a Convolutional Neural Network (CNN)\n",
    "CNN's are also known as ConvNets.\n",
    "\n",
    "CNN's are known for their capabilities to find patterns in visual data.\n",
    "\n",
    "***Recommended WebSite:*** "
   ]
  },
  {
   "cell_type": "code",
   "execution_count": 29,
   "id": "8d33ef45",
   "metadata": {},
   "outputs": [],
   "source": [
    "# Create a Convolutional Neural Network\n",
    "\n",
    "class FashionMNISTModelV2(nn.Module):\n",
    "    '''Model arquitechture that replicates the TinnyVGG \n",
    "    mode from CNN explainer website'''\n",
    "\n",
    "\n",
    "    def __init__(self, input_shape: int, output_shape: int, hidden_units: int):\n",
    "        super().__init__()\n",
    "\n",
    "        self.conv_block_1 = nn.Sequential(\n",
    "            nn.Conv2d(in_channels=input_shape, out_channels=hidden_units, \n",
    "                      kernel_size=3, stride=1, padding=1),\n",
    "            nn.ReLU(),\n",
    "            nn.Conv2d(in_channels=hidden_units, out_channels=hidden_units,\n",
    "                      kernel_size=3, stride=1, padding=1),\n",
    "            nn.ReLU(),\n",
    "            nn.MaxPool2d(kernel_size=2)\n",
    "        )\n",
    "\n",
    "        self.conv_block_2 = nn.Sequential(\n",
    "            nn.Conv2d(in_channels=hidden_units, out_channels=hidden_units,\n",
    "                      kernel_size=3, stride=1, padding=1),\n",
    "            nn.ReLU(),\n",
    "            nn.Conv2d(in_channels=hidden_units, out_channels=hidden_units,\n",
    "                      kernel_size=3, stride=1, padding=1),\n",
    "            nn.ReLU(),\n",
    "            nn.MaxPool2d(kernel_size=2)\n",
    "        )\n",
    "\n",
    "        self.classifier = nn.Sequential(\n",
    "            nn.Flatten(),\n",
    "            nn.Linear(in_features=hidden_units*7*7, out_features=output_shape)\n",
    "        )\n",
    "\n",
    "    def forward(self, x):\n",
    "        x = self.conv_block_1(x); #print(f'After conv_block_1: {x.shape}')\n",
    "        x = self.conv_block_2(x); #print(f'After conv_block_2: {x.shape}')\n",
    "        x = self.classifier(x); #print(f'After classifier: {x.shape}')\n",
    "        return x\n"
   ]
  },
  {
   "cell_type": "code",
   "execution_count": 30,
   "id": "7167325e",
   "metadata": {},
   "outputs": [
    {
     "data": {
      "text/plain": [
       "FashionMNISTModelV2(\n",
       "  (conv_block_1): Sequential(\n",
       "    (0): Conv2d(1, 20, kernel_size=(3, 3), stride=(1, 1), padding=(1, 1))\n",
       "    (1): ReLU()\n",
       "    (2): Conv2d(20, 20, kernel_size=(3, 3), stride=(1, 1), padding=(1, 1))\n",
       "    (3): ReLU()\n",
       "    (4): MaxPool2d(kernel_size=2, stride=2, padding=0, dilation=1, ceil_mode=False)\n",
       "  )\n",
       "  (conv_block_2): Sequential(\n",
       "    (0): Conv2d(20, 20, kernel_size=(3, 3), stride=(1, 1), padding=(1, 1))\n",
       "    (1): ReLU()\n",
       "    (2): Conv2d(20, 20, kernel_size=(3, 3), stride=(1, 1), padding=(1, 1))\n",
       "    (3): ReLU()\n",
       "    (4): MaxPool2d(kernel_size=2, stride=2, padding=0, dilation=1, ceil_mode=False)\n",
       "  )\n",
       "  (classifier): Sequential(\n",
       "    (0): Flatten(start_dim=1, end_dim=-1)\n",
       "    (1): Linear(in_features=980, out_features=10, bias=True)\n",
       "  )\n",
       ")"
      ]
     },
     "execution_count": 30,
     "metadata": {},
     "output_type": "execute_result"
    }
   ],
   "source": [
    "import torch\n",
    "torch.manual_seed(MY_SEED)\n",
    "model_2 = FashionMNISTModelV2(input_shape=1, output_shape=len(class_names), hidden_units=20)\n",
    "model_2"
   ]
  },
  {
   "cell_type": "code",
   "execution_count": 31,
   "id": "ffb8b9ac",
   "metadata": {},
   "outputs": [
    {
     "name": "stdout",
     "output_type": "stream",
     "text": [
      "InitialImage Shape: torch.Size([1, 28, 28])\n"
     ]
    },
    {
     "data": {
      "text/plain": [
       "tensor([[-0.0850, -0.0175, -0.0502,  0.0433, -0.0013,  0.0395, -0.0038, -0.0309,\n",
       "         -0.0619,  0.0125]], grad_fn=<AddmmBackward0>)"
      ]
     },
     "execution_count": 31,
     "metadata": {},
     "output_type": "execute_result"
    }
   ],
   "source": [
    "# Run a rand tensor with the shape of our images in the dataset through the CNN to see the shape of each output stage\n",
    "rand_image_tensor = torch.randn(size=(1, 28, 28))\n",
    "print(f'InitialImage Shape: {rand_image_tensor.shape}')\n",
    "model_2(rand_image_tensor.unsqueeze(dim=0))\n"
   ]
  },
  {
   "cell_type": "markdown",
   "id": "4b31b7b9",
   "metadata": {},
   "source": [
    "#### 6.1. Stepping through `nn.Conv2d()`"
   ]
  },
  {
   "cell_type": "code",
   "execution_count": 32,
   "id": "beeb7c2a",
   "metadata": {},
   "outputs": [
    {
     "name": "stdout",
     "output_type": "stream",
     "text": [
      "Image bacth shape: torch.Size([32, 3, 66, 66])\n",
      "Single image shape: torch.Size([3, 66, 66])\n"
     ]
    }
   ],
   "source": [
    "torch.manual_seed(MY_SEED)\n",
    "\n",
    "# Create a batch of images\n",
    "images = torch.randn(size = (32, 3, 66, 66))\n",
    "test_image = images[0]\n",
    "\n",
    "print(f'Image bacth shape: {images.shape}')\n",
    "print(f'Single image shape: {test_image.shape}')\n",
    "# print(f'Test image:\\n{test_image}')"
   ]
  },
  {
   "cell_type": "code",
   "execution_count": 33,
   "id": "66be3e68",
   "metadata": {},
   "outputs": [
    {
     "data": {
      "text/plain": [
       "(torch.Size([1, 3, 66, 66]), torch.Size([1, 10, 64, 64]))"
      ]
     },
     "execution_count": 33,
     "metadata": {},
     "output_type": "execute_result"
    }
   ],
   "source": [
    "# Create a single conv layer\n",
    "conv_layer = nn.Conv2d(in_channels=3, out_channels=10,\n",
    "                       kernel_size=3, stride=1, padding=0) \n",
    "\n",
    "# Create a single layer nn.MaxPool2d()\n",
    "max_pool_layer = nn.MaxPool2d(kernel_size=4)\n",
    "\n",
    "conv_output = conv_layer(test_image.unsqueeze(dim=0))\n",
    "test_image.unsqueeze(dim=0).shape, conv_output.shape"
   ]
  },
  {
   "cell_type": "code",
   "execution_count": 34,
   "id": "03770efd",
   "metadata": {},
   "outputs": [
    {
     "name": "stdout",
     "output_type": "stream",
     "text": [
      "Test Image Original Shape: ---> torch.Size([3, 66, 66])\n",
      "Test Image with Unsqueezed dim: torch.Size([1, 3, 66, 66])\n",
      "Shape after Conv(): ----------> torch.Size([1, 10, 64, 64])\n",
      "Shape after Conv() + MaxPool(): torch.Size([1, 10, 16, 16])\n"
     ]
    }
   ],
   "source": [
    "# Print original image shape with and w/o unsqueezed()\n",
    "print(f'Test Image Original Shape: {'-'*3+'>'} {test_image.shape}')\n",
    "print(f'Test Image with Unsqueezed dim: {test_image.unsqueeze(dim=0).shape}')\n",
    "\n",
    "# Pass data through Conv & Max_pool layers\n",
    "test_image_conv = conv_layer(test_image.unsqueeze(dim=0))\n",
    "test_image_maxpool = max_pool_layer(test_image_conv)\n",
    "\n",
    "# Printing\n",
    "print(f'Shape after Conv(): {'-'*10+'>'} {test_image_conv.shape}')\n",
    "print(f'Shape after Conv() + MaxPool(): {test_image_maxpool.shape}')\n"
   ]
  },
  {
   "cell_type": "markdown",
   "id": "13917905",
   "metadata": {},
   "source": [
    "#### 6.2. Setup Loss Function and Optimizer for Model_2"
   ]
  },
  {
   "cell_type": "code",
   "execution_count": 35,
   "id": "079ccd6d",
   "metadata": {},
   "outputs": [],
   "source": [
    "# Setup loss_fn, otpimizer and eval metrics\n",
    "from helper_functions import accuracy_fn\n",
    "\n",
    "criterion_2 = nn.CrossEntropyLoss()\n",
    "optimizer_2 = torch.optim.SGD(params=model_2.parameters(), lr=0.1)\n"
   ]
  },
  {
   "cell_type": "markdown",
   "id": "ec67d8ad",
   "metadata": {},
   "source": [
    "#### 6.3. Trianing and Testing Model 2"
   ]
  },
  {
   "cell_type": "code",
   "execution_count": 36,
   "id": "76f98c1d",
   "metadata": {},
   "outputs": [
    {
     "data": {
      "application/vnd.jupyter.widget-view+json": {
       "model_id": "57b736b138544a1ca78a0fecf9ce822c",
       "version_major": 2,
       "version_minor": 0
      },
      "text/plain": [
       "  0%|          | 0/5 [00:00<?, ?it/s]"
      ]
     },
     "metadata": {},
     "output_type": "display_data"
    },
    {
     "name": "stdout",
     "output_type": "stream",
     "text": [
      "------------------------------------------------------------\n",
      "Epoch: 0\n",
      "Train_Loss: 0.5406 | Train_Acc: 80.32%\n",
      "Test_Loss: 0.3606 | Test_Acc: 87.30%\n",
      "------------------------------------------------------------\n",
      "Epoch: 1\n",
      "Train_Loss: 0.3308 | Train_Acc: 88.21%\n",
      "Test_Loss: 0.3233 | Test_Acc: 88.35%\n",
      "------------------------------------------------------------\n",
      "Epoch: 2\n",
      "Train_Loss: 0.2920 | Train_Acc: 89.45%\n",
      "Test_Loss: 0.2932 | Test_Acc: 89.44%\n",
      "------------------------------------------------------------\n",
      "Epoch: 3\n",
      "Train_Loss: 0.2691 | Train_Acc: 90.38%\n",
      "Test_Loss: 0.2934 | Test_Acc: 89.26%\n",
      "------------------------------------------------------------\n",
      "Epoch: 4\n",
      "Train_Loss: 0.2544 | Train_Acc: 90.82%\n",
      "Test_Loss: 0.2773 | Test_Acc: 89.93%\n",
      "------------------------------------------------------------\n",
      "Train Time on cuda:0: 57.513 seconds\n"
     ]
    }
   ],
   "source": [
    "torch.manual_seed(MY_SEED); torch.cuda.manual_seed(MY_SEED)\n",
    "device = 'cuda'; model_2 = model_2.to(device)\n",
    "\n",
    "# Measure Time\n",
    "from timeit import default_timer as timer\n",
    "train_time_start_model_2 = timer()\n",
    "\n",
    "# Set Epochs\n",
    "EPOCHS = 5\n",
    "\n",
    "# Create a optimization loop and evaluation loop using train_step() and test_step()\n",
    "for epoch in tqdm(range(EPOCHS)):\n",
    "\n",
    "    print(f'{'-'*60}\\nEpoch: {epoch}')\n",
    "\n",
    "    # Training\n",
    "    train_step(model_2, train_dataloader, criterion_2, optimizer_2, accuracy_fn, device)\n",
    "\n",
    "    # Testing\n",
    "    test_step(model_2, test_dataloader, criterion_2, accuracy_fn, device)\n",
    "\n",
    "train_end_time_model_2 = timer()\n",
    "total_train_time_model_2 = print_train_time(start=train_time_start_model_2, end=train_end_time_model_2, device=str(next(model_2.parameters()).device))"
   ]
  },
  {
   "cell_type": "code",
   "execution_count": 37,
   "id": "8a9baa4d",
   "metadata": {},
   "outputs": [
    {
     "data": {
      "application/vnd.jupyter.widget-view+json": {
       "model_id": "6ec717ecfe7a43d89e7704cabf1169d9",
       "version_major": 2,
       "version_minor": 0
      },
      "text/plain": [
       "  0%|          | 0/313 [00:00<?, ?it/s]"
      ]
     },
     "metadata": {},
     "output_type": "display_data"
    },
    {
     "data": {
      "text/plain": [
       "{'model_name': 'FashionMNISTModelV2',\n",
       " 'model_loss': 0.2772977948188782,\n",
       " 'model_acc': 89.92611821086263}"
      ]
     },
     "execution_count": 37,
     "metadata": {},
     "output_type": "execute_result"
    }
   ],
   "source": [
    "# Get model_2 results\n",
    "model_2_results = eval_model(model=model_2, data_loader=test_dataloader, loss_fn=criterion_2,\n",
    "                             accuracy_fn=accuracy_fn, device=device)\n",
    "model_2_results"
   ]
  },
  {
   "cell_type": "markdown",
   "id": "0d410a90",
   "metadata": {},
   "source": [
    "### 7. Compare model results and training time\n"
   ]
  },
  {
   "cell_type": "code",
   "execution_count": 38,
   "id": "d2253616",
   "metadata": {},
   "outputs": [
    {
     "data": {
      "text/html": [
       "<div>\n",
       "<style scoped>\n",
       "    .dataframe tbody tr th:only-of-type {\n",
       "        vertical-align: middle;\n",
       "    }\n",
       "\n",
       "    .dataframe tbody tr th {\n",
       "        vertical-align: top;\n",
       "    }\n",
       "\n",
       "    .dataframe thead th {\n",
       "        text-align: right;\n",
       "    }\n",
       "</style>\n",
       "<table border=\"1\" class=\"dataframe\">\n",
       "  <thead>\n",
       "    <tr style=\"text-align: right;\">\n",
       "      <th></th>\n",
       "      <th>model_name</th>\n",
       "      <th>model_loss</th>\n",
       "      <th>model_acc</th>\n",
       "      <th>train_time</th>\n",
       "    </tr>\n",
       "  </thead>\n",
       "  <tbody>\n",
       "    <tr>\n",
       "      <th>0</th>\n",
       "      <td>FashionMNISTModelV0</td>\n",
       "      <td>0.513675</td>\n",
       "      <td>81.998802</td>\n",
       "      <td>27.330052</td>\n",
       "    </tr>\n",
       "    <tr>\n",
       "      <th>1</th>\n",
       "      <td>FashionMNISTModelV1</td>\n",
       "      <td>0.418475</td>\n",
       "      <td>84.954073</td>\n",
       "      <td>27.745493</td>\n",
       "    </tr>\n",
       "    <tr>\n",
       "      <th>2</th>\n",
       "      <td>FashionMNISTModelV2</td>\n",
       "      <td>0.277298</td>\n",
       "      <td>89.926118</td>\n",
       "      <td>57.512566</td>\n",
       "    </tr>\n",
       "  </tbody>\n",
       "</table>\n",
       "</div>"
      ],
      "text/plain": [
       "            model_name  model_loss  model_acc  train_time\n",
       "0  FashionMNISTModelV0    0.513675  81.998802   27.330052\n",
       "1  FashionMNISTModelV1    0.418475  84.954073   27.745493\n",
       "2  FashionMNISTModelV2    0.277298  89.926118   57.512566"
      ]
     },
     "execution_count": 38,
     "metadata": {},
     "output_type": "execute_result"
    }
   ],
   "source": [
    "import pandas as pd\n",
    "\n",
    "compare_results = pd.DataFrame([model_0_results, model_1_results, model_2_results])\n",
    "compare_results['train_time'] = [total_train_time_model_0, total_train_time_model_1, total_train_time_model_2]\n",
    "compare_results\n"
   ]
  },
  {
   "cell_type": "code",
   "execution_count": 39,
   "id": "c36f1d29",
   "metadata": {},
   "outputs": [
    {
     "data": {
      "text/plain": [
       "Text(0, 0.5, 'model')"
      ]
     },
     "execution_count": 39,
     "metadata": {},
     "output_type": "execute_result"
    },
    {
     "data": {
      "image/png": "[encoded data removed]",
      "text/plain": [
       "<Figure size 400x200 with 1 Axes>"
      ]
     },
     "metadata": {},
     "output_type": "display_data"
    }
   ],
   "source": [
    "# Visualize results\n",
    "plt.figure(figsize=(4,2))\n",
    "compare_results.set_index('model_name')['model_acc'].plot(kind='barh')\n",
    "plt.xlabel('Accuracy (%)'); plt.ylabel('model')"
   ]
  },
  {
   "cell_type": "markdown",
   "id": "940f48c0",
   "metadata": {},
   "source": [
    "#### 7.1. Make and evaluate random predictions with best model"
   ]
  },
  {
   "cell_type": "code",
   "execution_count": 40,
   "id": "98eed08a",
   "metadata": {},
   "outputs": [],
   "source": [
    "def make_predictions(model: torch.nn.Module, data: list, device: torch.device = device):\n",
    "    pred_probs = []\n",
    "    model.to(device)\n",
    "    model.eval()\n",
    "    with torch.inference_mode():\n",
    "        for sample in data:\n",
    "        \n",
    "            sample = torch.unsqueeze(sample, dim=0).to(device)\n",
    "            pred_logit = model(sample)\n",
    "            pred_prob = torch.softmax(pred_logit.squeeze(), dim=0) \n",
    "\n",
    "            # Get pred_prob off the GPU for next calcs\n",
    "            pred_probs.append(pred_prob.cpu())\n",
    "\n",
    "    return torch.stack(pred_probs)"
   ]
  },
  {
   "cell_type": "code",
   "execution_count": 41,
   "id": "678b5d07",
   "metadata": {},
   "outputs": [
    {
     "data": {
      "text/plain": [
       "torch.Size([1, 28, 28])"
      ]
     },
     "execution_count": 41,
     "metadata": {},
     "output_type": "execute_result"
    }
   ],
   "source": [
    "import random\n",
    "# random.seed(MY_SEED)\n",
    "test_samples = []\n",
    "test_labels = []\n",
    "\n",
    "for sample, label in random.sample(list(test_data), k=9):\n",
    "    test_samples.append(sample)\n",
    "    test_labels.append(label)\n",
    "\n",
    "test_samples[0].shape"
   ]
  },
  {
   "cell_type": "code",
   "execution_count": 42,
   "id": "0e510595",
   "metadata": {},
   "outputs": [
    {
     "data": {
      "text/plain": [
       "(np.float64(-0.5), np.float64(27.5), np.float64(27.5), np.float64(-0.5))"
      ]
     },
     "execution_count": 42,
     "metadata": {},
     "output_type": "execute_result"
    },
    {
     "data": {
      "image/png": "[encoded data removed]",
      "text/plain": [
       "<Figure size 640x480 with 1 Axes>"
      ]
     },
     "metadata": {},
     "output_type": "display_data"
    }
   ],
   "source": [
    "plt.imshow(test_samples[0].squeeze(), cmap='gray')\n",
    "plt.title(class_names[test_labels[0]]); plt.axis(False)"
   ]
  },
  {
   "cell_type": "code",
   "execution_count": 43,
   "id": "eee59e36",
   "metadata": {},
   "outputs": [
    {
     "name": "stdout",
     "output_type": "stream",
     "text": [
      "torch.Size([1, 28, 28])\n",
      "Pred_Classes: tensor([9, 0, 0, 2, 8, 2, 7, 1, 2])\n"
     ]
    },
    {
     "data": {
      "image/png": "[encoded data removed]",
      "text/plain": [
       "<Figure size 700x500 with 9 Axes>"
      ]
     },
     "metadata": {},
     "output_type": "display_data"
    }
   ],
   "source": [
    "# Select Randome Samples from the Test Data and Make Predictions using make_predictions()\n",
    "\n",
    "# ==============================================================================================\n",
    "\n",
    "# Select random samples\n",
    "import random # random.seed(MY_SEED)\n",
    "test_samples = []\n",
    "test_labels = []\n",
    "\n",
    "for sample, label in random.sample(list(test_data), k=9):\n",
    "    test_samples.append(sample)\n",
    "    test_labels.append(label)\n",
    "print(test_samples[0].shape)\n",
    "\n",
    "# ==============================================================================================\n",
    "\n",
    "# Make Predictions\n",
    "pred_probs_model_2 = make_predictions(model=model_2, data=test_samples)\n",
    "pred_classes = torch.argmax(pred_probs_model_2, dim=1) # Convert predictions probs to labels\n",
    "print(f'Pred_Classes: {pred_classes}')\n",
    "\n",
    "# ==============================================================================================\n",
    "\n",
    "# Plot figures\n",
    "plt.figure(figsize=(7,5))\n",
    "n_rows=3; n_cols=3;  \n",
    "\n",
    "for i, sample in enumerate(test_samples):\n",
    "    plt.subplot(n_rows, n_cols, i+1)\n",
    "    plt.imshow(sample.squeeze(), cmap='gray'); plt.axis(False)\n",
    "\n",
    "    pred_label = class_names[pred_classes[i]]\n",
    "    true_label = class_names[test_labels[i]]\n",
    "\n",
    "    text_title = f'{pred_label} | {true_label}'\n",
    "\n",
    "    if pred_label == true_label:\n",
    "        plt.title(text_title, fontsize=9, c='g', weight='bold')\n",
    "    else:\n",
    "        plt.title(text_title, fontsize=9, c='r', weight='bold')\n",
    "    plt.suptitle('Prediction | Truth', fontsize=12, weight='bold')"
   ]
  },
  {
   "cell_type": "markdown",
   "id": "8d55e479",
   "metadata": {},
   "source": [
    "### 8. Making a Confusion Matrix for Further Prediction Evaluation\n",
    "\n",
    "A confusion matrix is a fantastic way for further evaluation of a classification model.\n",
    "\n",
    "1. Make predictions with our trained model on the test dataset.\n",
    "2. Make a confusion matrix with `torchmetrics.ConfusionMatrix`\n",
    "3. Plot the confusion matrix unsing `mlxtend.plotting.plot_confusion_matrix()`\n"
   ]
  },
  {
   "cell_type": "code",
   "execution_count": 44,
   "id": "5c3b7049",
   "metadata": {},
   "outputs": [
    {
     "data": {
      "application/vnd.jupyter.widget-view+json": {
       "model_id": "558cc9bb0d38433490fa62380ef7771b",
       "version_major": 2,
       "version_minor": 0
      },
      "text/plain": [
       "Making predictions:   0%|          | 0/313 [00:00<?, ?it/s]"
      ]
     },
     "metadata": {},
     "output_type": "display_data"
    },
    {
     "data": {
      "text/plain": [
       "torch.Size([10000])"
      ]
     },
     "execution_count": 44,
     "metadata": {},
     "output_type": "execute_result"
    }
   ],
   "source": [
    "# Import t1dm.audo\n",
    "from tqdm.auto import tqdm\n",
    "\n",
    "# 1. make predictions with trained model\n",
    "y_preds = []\n",
    "model_2.eval()\n",
    "with torch.inference_mode():\n",
    "    for X, y in tqdm(test_dataloader, desc='Making predictions'):\n",
    "        X, y = X.to(device), y.to(device)\n",
    "        y_logits = model_2(X)\n",
    "        y_pred = torch.softmax(y_logits.squeeze(), dim=0).argmax(dim=1)\n",
    "        y_preds.append(y_pred.cpu())\n",
    "\n",
    "# print(y_preds)\n",
    "y_pred_tensor = torch.cat(y_preds)\n",
    "y_pred_tensor.shape"
   ]
  },
  {
   "cell_type": "code",
   "execution_count": 45,
   "id": "b08ca275",
   "metadata": {},
   "outputs": [
    {
     "name": "stdout",
     "output_type": "stream",
     "text": [
      "mlextend version: 0.23.4\n"
     ]
    }
   ],
   "source": [
    "import torchmetrics, mlxtend\n",
    "print(f'mlextend version: {mlxtend.__version__}')\n",
    "assert int(mlxtend.__version__.split('.')[1]) >= 19, 'mlxtend version should be 0.19.0 or higher'"
   ]
  },
  {
   "cell_type": "code",
   "execution_count": 56,
   "id": "776af2d9",
   "metadata": {},
   "outputs": [
    {
     "data": {
      "image/png": "[encoded data removed]",
      "text/plain": [
       "<Figure size 600x550 with 1 Axes>"
      ]
     },
     "metadata": {},
     "output_type": "display_data"
    }
   ],
   "source": [
    "from torchmetrics import ConfusionMatrix\n",
    "from mlxtend.plotting import plot_confusion_matrix\n",
    "\n",
    "# 2. Setup confiusion instance and compare predictions to targets\n",
    "confmat = ConfusionMatrix(num_classes=len(class_names), task='multiclass')\n",
    "confmat_tensor = confmat(preds=y_pred_tensor, target=test_data.targets)\n",
    "\n",
    "# 3. Plot Confusion matrix\n",
    "fig, ax = plot_confusion_matrix(conf_mat=confmat_tensor.numpy(), class_names= class_names, figsize=(6,5.5))"
   ]
  },
  {
   "cell_type": "markdown",
   "id": "ac68a0f0",
   "metadata": {},
   "source": [
    "### 9. Save and Load the model"
   ]
  },
  {
   "cell_type": "code",
   "execution_count": 67,
   "id": "99abd6bc",
   "metadata": {},
   "outputs": [
    {
     "name": "stdout",
     "output_type": "stream",
     "text": [
      "Saving model to: models\\03_pytorch_computer_vision_model_2.pth\n"
     ]
    }
   ],
   "source": [
    "# Import Libraries\n",
    "from pathlib import Path\n",
    "\n",
    "# Create Paths\n",
    "FOLDER_PATH = Path('models'); FOLDER_PATH.mkdir(parents=True, exist_ok=True)\n",
    "MODEL_NAME = '03_pytorch_computer_vision_model_2.pth'\n",
    "MODEL_PATH = FOLDER_PATH / MODEL_NAME\n",
    "\n",
    "# Save Model\n",
    "print(f'Saving model to: {MODEL_PATH}')\n",
    "torch.save(obj=model_2.state_dict(), f=MODEL_PATH)"
   ]
  },
  {
   "cell_type": "code",
   "execution_count": 68,
   "id": "4d49d5e5",
   "metadata": {},
   "outputs": [
    {
     "data": {
      "text/plain": [
       "FashionMNISTModelV2(\n",
       "  (conv_block_1): Sequential(\n",
       "    (0): Conv2d(1, 20, kernel_size=(3, 3), stride=(1, 1), padding=(1, 1))\n",
       "    (1): ReLU()\n",
       "    (2): Conv2d(20, 20, kernel_size=(3, 3), stride=(1, 1), padding=(1, 1))\n",
       "    (3): ReLU()\n",
       "    (4): MaxPool2d(kernel_size=2, stride=2, padding=0, dilation=1, ceil_mode=False)\n",
       "  )\n",
       "  (conv_block_2): Sequential(\n",
       "    (0): Conv2d(20, 20, kernel_size=(3, 3), stride=(1, 1), padding=(1, 1))\n",
       "    (1): ReLU()\n",
       "    (2): Conv2d(20, 20, kernel_size=(3, 3), stride=(1, 1), padding=(1, 1))\n",
       "    (3): ReLU()\n",
       "    (4): MaxPool2d(kernel_size=2, stride=2, padding=0, dilation=1, ceil_mode=False)\n",
       "  )\n",
       "  (classifier): Sequential(\n",
       "    (0): Flatten(start_dim=1, end_dim=-1)\n",
       "    (1): Linear(in_features=980, out_features=10, bias=True)\n",
       "  )\n",
       ")"
      ]
     },
     "execution_count": 68,
     "metadata": {},
     "output_type": "execute_result"
    }
   ],
   "source": [
    "loaded_model_2 = FashionMNISTModelV2(input_shape=1, output_shape=len(class_names), hidden_units=20)\n",
    "loaded_model_2.load_state_dict(torch.load(f=MODEL_PATH))\n",
    "loaded_model_2.to(device)"
   ]
  },
  {
   "cell_type": "code",
   "execution_count": 72,
   "id": "413de2f6",
   "metadata": {},
   "outputs": [
    {
     "data": {
      "application/vnd.jupyter.widget-view+json": {
       "model_id": "144388e426cb40ffa223476ddd5d9c73",
       "version_major": 2,
       "version_minor": 0
      },
      "text/plain": [
       "  0%|          | 0/313 [00:00<?, ?it/s]"
      ]
     },
     "metadata": {},
     "output_type": "display_data"
    },
    {
     "name": "stdout",
     "output_type": "stream",
     "text": [
      "{'model_name': 'FashionMNISTModelV2', 'model_loss': 0.2772977948188782, 'model_acc': 89.92611821086263} {'model_name': 'FashionMNISTModelV2', 'model_loss': 0.2772977948188782, 'model_acc': 89.92611821086263}\n"
     ]
    }
   ],
   "source": [
    "# Evaluate Loaded Model and Compare it to the Original\n",
    "loaded_model_2_results = eval_model(loaded_model_2, test_dataloader, loss_fn=criterion_2, accuracy_fn=accuracy_fn, device=device)\n",
    "print(loaded_model_2_results, model_2_results)"
   ]
  },
  {
   "cell_type": "code",
   "execution_count": 74,
   "id": "64f819de",
   "metadata": {},
   "outputs": [
    {
     "data": {
      "text/plain": [
       "tensor(True)"
      ]
     },
     "execution_count": 74,
     "metadata": {},
     "output_type": "execute_result"
    }
   ],
   "source": [
    "torch.isclose(torch.tensor(model_2_results['model_loss']), torch.tensor(loaded_model_2_results['model_loss']))"
   ]
  }
 ],
 "metadata": {
  "kernelspec": {
   "display_name": "Python 3",
   "language": "python",
   "name": "python3"
  },
  "language_info": {
   "codemirror_mode": {
    "name": "ipython",
    "version": 3
   },
   "file_extension": ".py",
   "mimetype": "text/x-python",
   "name": "python",
   "nbconvert_exporter": "python",
   "pygments_lexer": "ipython3",
   "version": "3.13.2"
  }
 },
 "nbformat": 4,
 "nbformat_minor": 5
}
