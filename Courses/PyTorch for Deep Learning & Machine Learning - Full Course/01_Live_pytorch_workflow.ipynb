{
 "cells": [
  {
   "cell_type": "markdown",
   "id": "1fad29c1",
   "metadata": {},
   "source": [
    "# Module 01 - PyTorch Workflow\n",
    "\n",
    "Lets's explore an example PyTorch end-to-end workflow"
   ]
  },
  {
   "cell_type": "code",
   "execution_count": 1,
   "id": "e301aeae",
   "metadata": {},
   "outputs": [
    {
     "data": {
      "text/plain": [
       "{1: 'data (prepare and load)',\n",
       " 2: 'build model',\n",
       " 3: 'fitting model to data (training)',\n",
       " 4: 'making predictions (inference)',\n",
       " 5: 'saving and loading the model',\n",
       " 6: 'putting it all together'}"
      ]
     },
     "execution_count": 1,
     "metadata": {},
     "output_type": "execute_result"
    }
   ],
   "source": [
    "what_were_covering = {1: 'data (prepare and load)',\n",
    "                    2: 'build model',\n",
    "                    3: 'fitting model to data (training)',\n",
    "                    4: 'making predictions (inference)',\n",
    "                    5: 'saving and loading the model',\n",
    "                    6: 'putting it all together'}\n",
    "\n",
    "what_were_covering"
   ]
  },
  {
   "cell_type": "code",
   "execution_count": 2,
   "id": "f280213a",
   "metadata": {},
   "outputs": [
    {
     "data": {
      "text/plain": [
       "'2.7.0+cu118'"
      ]
     },
     "execution_count": 2,
     "metadata": {},
     "output_type": "execute_result"
    }
   ],
   "source": [
    "# Torch Libraries\n",
    "import torch\n",
    "import torch.nn as nn # nn contains all pytorch building blocks for Neural Networks\n",
    "\n",
    "import matplotlib.pyplot as plt\n",
    "import pandas as pd\n",
    "import numpy as np\n",
    "\n",
    "torch.__version__"
   ]
  },
  {
   "cell_type": "markdown",
   "id": "be0134c2",
   "metadata": {},
   "source": [
    "### 1. Data (preparing and loading)\n",
    "Data can be almost anything... in machine learning.\n",
    "\n",
    "* Excel spreadsheet\n",
    "* Images of any kind\n",
    "* Videos (Youtube)\n",
    "* Audio\n",
    "* etc...\n",
    "\n",
    "Machine Learning is a game of 2 parts:\n",
    "1. Get data into a numerical representation.\n",
    "2. Build a model to learn patterns in the numerical representation.\n",
    "\n",
    "To showcase this, let's create some *known* data using the linear regression formula.\n",
    "\n",
    "We'll use a linear regression formula to make a straight line with *known* **parameters**."
   ]
  },
  {
   "cell_type": "markdown",
   "id": "d870677b",
   "metadata": {},
   "source": [
    "#### 1.1. Creating **known** Dataset"
   ]
  },
  {
   "cell_type": "code",
   "execution_count": 3,
   "id": "efbe868f",
   "metadata": {},
   "outputs": [
    {
     "data": {
      "text/plain": [
       "(tensor([[0.0000],\n",
       "         [0.0200],\n",
       "         [0.0400],\n",
       "         [0.0600],\n",
       "         [0.0800],\n",
       "         [0.1000],\n",
       "         [0.1200],\n",
       "         [0.1400],\n",
       "         [0.1600],\n",
       "         [0.1800]]),\n",
       " 50,\n",
       " tensor([[0.3000],\n",
       "         [0.3140],\n",
       "         [0.3280],\n",
       "         [0.3420],\n",
       "         [0.3560],\n",
       "         [0.3700],\n",
       "         [0.3840],\n",
       "         [0.3980],\n",
       "         [0.4120],\n",
       "         [0.4260]]),\n",
       " 50)"
      ]
     },
     "execution_count": 3,
     "metadata": {},
     "output_type": "execute_result"
    }
   ],
   "source": [
    "# Create *known* parameters\n",
    "# Linear Regression: Y = mX + b\n",
    "weight = 0.7 # m\n",
    "bias = 0.3 # b\n",
    "\n",
    "# Create\n",
    "start = 0; end = 1; step = 0.02\n",
    "X = torch.arange(start, end, step).unsqueeze(dim=1)\n",
    "y = weight*X + bias\n",
    "X[:10], len(X), y[:10], len(y)\n"
   ]
  },
  {
   "cell_type": "markdown",
   "id": "6970422a",
   "metadata": {},
   "source": [
    "#### 1.2. Spliting data into training and tests sets\n",
    "\n",
    "--> **Generalization:** Ability of a model to perform well on data it hasn't seen before.\n",
    "\n",
    "Let's create a training and tets set with the data."
   ]
  },
  {
   "cell_type": "code",
   "execution_count": 4,
   "id": "e4897178",
   "metadata": {},
   "outputs": [
    {
     "data": {
      "text/plain": [
       "(40, 40, 10, 10)"
      ]
     },
     "execution_count": 4,
     "metadata": {},
     "output_type": "execute_result"
    }
   ],
   "source": [
    "# Create a train/tests split\n",
    "train_split = int(0.8*len(X))\n",
    "X_train, y_train = X[:train_split], y[:train_split]\n",
    "X_test, y_test = X[train_split:], y[train_split:]\n",
    "\n",
    "len(X_train), len(y_train), len(X_test), len(y_test)"
   ]
  },
  {
   "cell_type": "markdown",
   "id": "8685090e",
   "metadata": {},
   "source": [
    "How might we better visualize our data? Our motto!\n",
    "\n",
    "**Visualize, Visualize, Visualize!**"
   ]
  },
  {
   "cell_type": "code",
   "execution_count": 5,
   "id": "2f723426",
   "metadata": {},
   "outputs": [],
   "source": [
    "def plot_predictions(train_data=X_train,\n",
    "                     train_labels=y_train,\n",
    "                     test_data=X_test,\n",
    "                     test_labels=y_test,\n",
    "                     predictions=None):\n",
    "    '''Plots training data, test data and compares predictions'''\n",
    "\n",
    "    plt.figure(figsize=(6,4))\n",
    "\n",
    "    plt.scatter(train_data, train_labels, c='b', s=6, label='Training Data')\n",
    "    plt.scatter(test_data, test_labels, c='g', s=6, label='Test Data')\n",
    "    plt.scatter(test_data, predictions, c='r', s=5, marker='*', label='Predictions') if (predictions is not None) else None\n",
    "    plt.legend()"
   ]
  },
  {
   "cell_type": "code",
   "execution_count": 6,
   "id": "d6942810",
   "metadata": {},
   "outputs": [
    {
     "data": {
      "image/png": "[encoded data removed]",
      "text/plain": [
       "<Figure size 600x400 with 1 Axes>"
      ]
     },
     "metadata": {},
     "output_type": "display_data"
    }
   ],
   "source": [
    "plot_predictions(X_train, y_train, X_test, y_test)"
   ]
  },
  {
   "cell_type": "markdown",
   "id": "78ab835c",
   "metadata": {},
   "source": [
    "### 2. Build model\n",
    "Our first PyTorch model! We'll use Object Oriented Programming (OOP)"
   ]
  },
  {
   "cell_type": "markdown",
   "id": "7cbcfc36",
   "metadata": {},
   "source": [
    "#### 2.1. Class Building"
   ]
  },
  {
   "cell_type": "code",
   "execution_count": 7,
   "id": "4d9c5bfd",
   "metadata": {},
   "outputs": [],
   "source": [
    "# Create a Linear Regression Model Class\n",
    "\n",
    "class Linear_Regression_Model(nn.Module):\n",
    "\n",
    "    def __init__(self):\n",
    "        super().__init__()\n",
    "        self.weights = nn.Parameter(torch.randn(1,\n",
    "                                                requires_grad=True,\n",
    "                                                dtype=torch.float))\n",
    "        \n",
    "        self.bias = nn.Parameter(torch.randn(1,\n",
    "                                            requires_grad=True,\n",
    "                                            dtype=torch.float))\n",
    "        \n",
    "    def forward(self, x: torch.Tensor) -> torch.Tensor:\n",
    "        return self.weights * x + self.bias\n"
   ]
  },
  {
   "cell_type": "markdown",
   "id": "69cca3fc",
   "metadata": {},
   "source": [
    "#### 2.2. Checking contents of a Python Model\n",
    "\n"
   ]
  },
  {
   "cell_type": "code",
   "execution_count": 8,
   "id": "6f5e0cb9",
   "metadata": {},
   "outputs": [
    {
     "data": {
      "text/plain": [
       "OrderedDict([('weights', tensor([0.3367])), ('bias', tensor([0.1288]))])"
      ]
     },
     "execution_count": 8,
     "metadata": {},
     "output_type": "execute_result"
    }
   ],
   "source": [
    "# Create a random seed\n",
    "my_seed = 42; torch.manual_seed(my_seed)\n",
    "\n",
    "# Create an Instance of the model\n",
    "model_0 = Linear_Regression_Model()\n",
    "\n",
    "# Check out the parameters mode.state_dict()\n",
    "model_0.state_dict()"
   ]
  },
  {
   "cell_type": "code",
   "execution_count": 9,
   "id": "f849528e",
   "metadata": {},
   "outputs": [
    {
     "data": {
      "image/png": "[encoded data removed]",
      "text/plain": [
       "<Figure size 600x400 with 1 Axes>"
      ]
     },
     "metadata": {},
     "output_type": "display_data"
    }
   ],
   "source": [
    "# Make and Plot Predictions --> torch.inference_mode() - It turns off the gradient tracking. It allows the code to run faster, since python is keeping tracking of less data.\n",
    "with torch.inference_mode():\n",
    "    y_preds = model_0(X_test)\n",
    "y_preds\n",
    "\n",
    "plot_predictions(predictions=y_preds)\n",
    " \n"
   ]
  },
  {
   "cell_type": "markdown",
   "id": "4ed9b2a4",
   "metadata": {},
   "source": [
    "### 3. Train & Eval a Model\n",
    "\n",
    "The whole idea of training is for a model to move from some **unknown** parameters to some **known** parameters. In other words, from a **poor** representation to a **better** representation.\n",
    "\n",
    "To measure how wrong our model predictions are we can use a Loss Function (criterion) - L1 (MAE), L2 (MSE), BinaryCrossEntropy, CrossEntropy (for categorical classification).\n",
    "\n",
    "Things we need to learn:\n",
    "* **Loss Function (Criterion)**\n",
    "* **Optimizer:** How to optimize parameters `params` with a certain learning rate `lr`\n",
    "\n",
    "We'll also need:\n",
    "* **Training Loop:** \n",
    "\n",
    "    0. *Loop* through the data, both en epochs and batches.\n",
    "    1. *Outputs Computation:* Forward Propagation to Compute `outputs`.\n",
    "    2. *Loss Calculation*: Use Loss Function (criterion) to calculate `Loss` or Error, by comparing `predictions` with `targets`.\n",
    "    3. *Optimizer Zero Grad*\n",
    "    4. *Loss Backward:* BackPropagation.\n",
    "    5. *Optimizer Step:* Use `optimizer` to update `parameters`\n",
    "* **Testing Loop:**\n"
   ]
  },
  {
   "cell_type": "markdown",
   "id": "db5fec4f",
   "metadata": {},
   "source": [
    "#### 3.1. Training & Validation"
   ]
  },
  {
   "cell_type": "code",
   "execution_count": 10,
   "id": "2689143c",
   "metadata": {},
   "outputs": [
    {
     "name": "stdout",
     "output_type": "stream",
     "text": [
      "Epoch: 0 | Loss; 0.31288138031959534 | Test Loss: 0.48106518387794495\n",
      "OrderedDict({'weights': tensor([0.3406]), 'bias': tensor([0.1388])})\n",
      "Epoch: 20 | Loss; 0.08908725529909134 | Test Loss: 0.21729660034179688\n",
      "OrderedDict({'weights': tensor([0.4184]), 'bias': tensor([0.3333])})\n",
      "Epoch: 40 | Loss; 0.04543796554207802 | Test Loss: 0.11360953003168106\n",
      "OrderedDict({'weights': tensor([0.4748]), 'bias': tensor([0.3868])})\n",
      "Epoch: 60 | Loss; 0.03818932920694351 | Test Loss: 0.08886633068323135\n",
      "OrderedDict({'weights': tensor([0.5116]), 'bias': tensor([0.3788])})\n",
      "Epoch: 80 | Loss; 0.03132382780313492 | Test Loss: 0.07232122868299484\n",
      "OrderedDict({'weights': tensor([0.5459]), 'bias': tensor([0.3648])})\n",
      "Epoch: 100 | Loss; 0.024458957836031914 | Test Loss: 0.05646304413676262\n",
      "OrderedDict({'weights': tensor([0.5800]), 'bias': tensor([0.3503])})\n",
      "Epoch: 120 | Loss; 0.01758546568453312 | Test Loss: 0.04060482233762741\n",
      "OrderedDict({'weights': tensor([0.6141]), 'bias': tensor([0.3358])})\n",
      "Epoch: 140 | Loss; 0.010716589167714119 | Test Loss: 0.024059748277068138\n",
      "OrderedDict({'weights': tensor([0.6485]), 'bias': tensor([0.3218])})\n",
      "Epoch: 160 | Loss; 0.0038517764769494534 | Test Loss: 0.008201557211577892\n",
      "OrderedDict({'weights': tensor([0.6826]), 'bias': tensor([0.3073])})\n",
      "Epoch: 180 | Loss; 0.008932482451200485 | Test Loss: 0.005023092031478882\n",
      "OrderedDict({'weights': tensor([0.6951]), 'bias': tensor([0.2993])})\n",
      "\n",
      "--------------------------------------------------------------------------------\n",
      "\n",
      "Final Loss: 0.0025885067880153656\n",
      "OrderedDict({'weights': tensor([0.6990]), 'bias': tensor([0.3093])})\n"
     ]
    }
   ],
   "source": [
    "# Setup a Loss Function (Criterion) & an Optimizer\n",
    "criterion = nn.L1Loss() \n",
    "optimizer = torch.optim.SGD(params=model_0.parameters(), lr=0.01)\n",
    "\n",
    "epochs = 200\n",
    "\n",
    "# Tracking Experiments\n",
    "epoch_count = []\n",
    "train_loss_values = []\n",
    "test_loss_values = []\n",
    "\n",
    "# 0. Loop through the data\n",
    "for epoch in range(epochs):\n",
    "    # Set model to training mode\n",
    "    model_0.train() # train mode sets all parameters that require gradient tracking to actually track their gradients.\n",
    "    \n",
    "    outputs = model_0(X_train)          # 1. Output Calculation\n",
    "    loss = criterion(outputs, y_train)  # 2. Loss Calculation\n",
    "    optimizer.zero_grad()               # 3. ZeroGrad\n",
    "    loss.backward()                     # 4. Back Propagation\n",
    "    optimizer.step()                    # 5. Update parameters with Gradient Descent\n",
    "\n",
    "    #------------------------------------------------------------------------------------\n",
    "    model_0.eval()                  # Sets model to evaluation mode (e.g., disables dropout\n",
    "    with torch.inference_mode():    # Turns Off Gradient Tracking for faster computation..\n",
    "        \n",
    "        test_output = model_0(X_test)\n",
    "        test_loss = criterion(test_output, y_test)\n",
    "\n",
    "    if (epoch) % max(1, epochs // 10) == 0:\n",
    "        epoch_count.append(epoch)\n",
    "        train_loss_values.append(loss)\n",
    "        test_loss_values.append(test_loss)\n",
    "\n",
    "        print(f'Epoch: {epoch} | Loss; {loss} | Test Loss: {test_loss}')\n",
    "        print(model_0.state_dict())\n",
    "\n",
    "\n",
    "print(f'\\n{'-'*80}\\n\\nFinal Loss: {loss}')\n",
    "print(model_0.state_dict())"
   ]
  },
  {
   "cell_type": "markdown",
   "id": "4556f0cf",
   "metadata": {},
   "source": [
    "#### 3.2. Training vs Validation Loss Curves"
   ]
  },
  {
   "cell_type": "code",
   "execution_count": 11,
   "id": "ea9c6b24",
   "metadata": {},
   "outputs": [
    {
     "data": {
      "text/plain": [
       "Text(0.5, 1.0, 'Training and Validation Loss Curves')"
      ]
     },
     "execution_count": 11,
     "metadata": {},
     "output_type": "execute_result"
    },
    {
     "data": {
      "image/png": "[encoded data removed]",
      "text/plain": [
       "<Figure size 640x480 with 1 Axes>"
      ]
     },
     "metadata": {},
     "output_type": "display_data"
    }
   ],
   "source": [
    "train_loss_values_np = np.array(torch.tensor(train_loss_values).numpy())\n",
    "test_loss_values_np = np.array(torch.tensor(test_loss_values).numpy())\n",
    "\n",
    "plt.plot(epoch_count, train_loss_values_np, label='Training Loss')\n",
    "plt.plot(epoch_count, test_loss_values_np, label='Validation Loss')\n",
    "plt.legend()\n",
    "plt.title('Training and Validation Loss Curves')"
   ]
  },
  {
   "cell_type": "markdown",
   "id": "c4076d4c",
   "metadata": {},
   "source": [
    "#### 3.3. Plotting Predictions"
   ]
  },
  {
   "cell_type": "code",
   "execution_count": 12,
   "id": "be97fc8b",
   "metadata": {},
   "outputs": [
    {
     "data": {
      "image/png": "[encoded data removed]",
      "text/plain": [
       "<Figure size 600x400 with 1 Axes>"
      ]
     },
     "metadata": {},
     "output_type": "display_data"
    },
    {
     "data": {
      "image/png": "[encoded data removed]",
      "text/plain": [
       "<Figure size 600x400 with 1 Axes>"
      ]
     },
     "metadata": {},
     "output_type": "display_data"
    }
   ],
   "source": [
    "# Plotting\n",
    "with torch.inference_mode():\n",
    "    y_preds_new = model_0(X_test)\n",
    "plot_predictions(predictions=y_preds)\n",
    "plot_predictions(predictions=y_preds_new)"
   ]
  },
  {
   "cell_type": "markdown",
   "id": "92bff99a",
   "metadata": {},
   "source": [
    "### 4. Saving/Loading a Model in Pytorch\n",
    "There are 3 main methods I should know about for saving and loading models in PyTorch.\n",
    "1. `torch.save()` - allows you save a PyTorch object in Python's pickle format.\n",
    "2. `torch.load()` - allows you load a saved PyTorch object.\n",
    "3. `torch.nn.Module.loas_state_dict()` - allos you to load a model's saved state dictionary (learned parameters)."
   ]
  },
  {
   "cell_type": "markdown",
   "id": "13b6ca04",
   "metadata": {},
   "source": [
    "#### 4.1. Saving"
   ]
  },
  {
   "cell_type": "code",
   "execution_count": 13,
   "id": "64c94f78",
   "metadata": {},
   "outputs": [
    {
     "name": "stdout",
     "output_type": "stream",
     "text": [
      "Saving model to: models\\01_pytorch_workflow_model_0.pth\n"
     ]
    }
   ],
   "source": [
    "# Saving our PyTorch Model\n",
    "from pathlib import Path\n",
    "\n",
    "# 1. Create models directory\n",
    "MODEL_PATH = Path('models')\n",
    "MODEL_PATH.mkdir(parents=True, exist_ok=True)\n",
    "\n",
    "# 2. Create model save path\n",
    "MODEL_NAME = '01_pytorch_workflow_model_0.pth'\n",
    "MODEL_SAVE_PATH = MODEL_PATH / MODEL_NAME\n",
    "MODEL_SAVE_PATH\n",
    "\n",
    "# 3. Save model state_dict\n",
    "print(f'Saving model to: {MODEL_SAVE_PATH}')\n",
    "torch.save(obj=model_0.state_dict(), f=MODEL_SAVE_PATH)"
   ]
  },
  {
   "cell_type": "markdown",
   "id": "01244cb9",
   "metadata": {},
   "source": [
    "#### 4.2. Loading the Model State Dict\n",
    "\n",
    "Since we only saved the `state_dict()`, we need to create a new instance of our model class and lad the saved `state_dict()` into that one."
   ]
  },
  {
   "cell_type": "code",
   "execution_count": 14,
   "id": "56103d56",
   "metadata": {},
   "outputs": [
    {
     "data": {
      "text/plain": [
       "OrderedDict([('weights', tensor([0.6990])), ('bias', tensor([0.3093]))])"
      ]
     },
     "execution_count": 14,
     "metadata": {},
     "output_type": "execute_result"
    }
   ],
   "source": [
    "# To Load in a Saved state_dict, we need to create a new instance of the model class.\n",
    "\n",
    "loaded_model_0 = Linear_Regression_Model()                      # New Model Instance\n",
    "loaded_model_0.load_state_dict(torch.load(f=MODEL_SAVE_PATH))   # Load state_dict into new model's.\n",
    "loaded_model_0.state_dict()                                     # Display them"
   ]
  },
  {
   "cell_type": "code",
   "execution_count": 15,
   "id": "aa34a873",
   "metadata": {},
   "outputs": [
    {
     "data": {
      "text/plain": [
       "tensor([[True],\n",
       "        [True],\n",
       "        [True],\n",
       "        [True],\n",
       "        [True],\n",
       "        [True],\n",
       "        [True],\n",
       "        [True],\n",
       "        [True],\n",
       "        [True]])"
      ]
     },
     "execution_count": 15,
     "metadata": {},
     "output_type": "execute_result"
    }
   ],
   "source": [
    "loaded_model_0.eval()\n",
    "with torch.inference_mode():\n",
    "    loaded_outputs = loaded_model_0(X_test)\n",
    "\n",
    "\n",
    "y_preds_new == loaded_outputs"
   ]
  },
  {
   "cell_type": "markdown",
   "id": "5cae998c",
   "metadata": {},
   "source": [
    "### 5. Putting it all together\n",
    "Let's go back through the steps above and see it all in one place. "
   ]
  },
  {
   "cell_type": "markdown",
   "id": "37cdcef2",
   "metadata": {},
   "source": [
    "#### 5.0. Libraries & Device-Agnostic Code"
   ]
  },
  {
   "cell_type": "code",
   "execution_count": 16,
   "id": "9b4c3d68",
   "metadata": {},
   "outputs": [
    {
     "name": "stdout",
     "output_type": "stream",
     "text": [
      "PyTorch Version: 2.7.0+cu118\n",
      "Device: cuda\n"
     ]
    }
   ],
   "source": [
    "# Libraries\n",
    "\n",
    "# PyTorch\n",
    "import torch\n",
    "import torch.nn as nn\n",
    "\n",
    "# Data Visualize/Processing\n",
    "import numpy as np\n",
    "import pandas as pd\n",
    "import matplotlib.pyplot as plt\n",
    "\n",
    "# Path\n",
    "from pathlib import Path\n",
    "\n",
    "# Important \n",
    "device = 'cuda' if torch.cuda.is_available() else 'cpu'\n",
    "print(f'PyTorch Version: {torch.__version__}'); print(f'Device: {device}')\n",
    "my_seed = 42\n"
   ]
  },
  {
   "cell_type": "markdown",
   "id": "fa234b1f",
   "metadata": {},
   "source": [
    "####  5.1. Data"
   ]
  },
  {
   "cell_type": "code",
   "execution_count": 17,
   "id": "585e7216",
   "metadata": {},
   "outputs": [
    {
     "data": {
      "text/plain": [
       "(torch.Size([1000, 1]),\n",
       " torch.Size([1000, 1]),\n",
       " torch.Size([700, 1]),\n",
       " torch.Size([700, 1]),\n",
       " torch.Size([100, 1]),\n",
       " torch.Size([100, 1]),\n",
       " torch.Size([200, 1]),\n",
       " torch.Size([200, 1]))"
      ]
     },
     "execution_count": 17,
     "metadata": {},
     "output_type": "execute_result"
    },
    {
     "data": {
      "image/png": "[encoded data removed]",
      "text/plain": [
       "<Figure size 600x400 with 1 Axes>"
      ]
     },
     "metadata": {},
     "output_type": "display_data"
    }
   ],
   "source": [
    "# Create Data with Linear regression --> y = m*x + b\n",
    "\n",
    "# Data Parameters\n",
    "start=0; end= 1; step_size = 0.001\n",
    "m = 0.7; b = 0.3\n",
    "\n",
    "# Create Data\n",
    "X = torch.arange(start, end, step_size).unsqueeze(dim=1)\n",
    "y = m*X + b\n",
    "\n",
    "# Spliting Parameters\n",
    "train_size = 0.7; valid_size = 0.1; n = len(X)\n",
    "train_split_idx = int(n*train_size)\n",
    "valid_split_idx = train_split_idx+int(n*valid_size)\n",
    "\n",
    "# Split Datasets\n",
    "X_full_train = X[:valid_split_idx,:]; y_full_train = y[:valid_split_idx,:]\n",
    "X_train = X[:train_split_idx,:]; y_train = y[:train_split_idx,:]\n",
    "X_val = X[train_split_idx:valid_split_idx,:]; y_val = y[train_split_idx:valid_split_idx,:]\n",
    "X_test = X[valid_split_idx:,:]; y_test = y[valid_split_idx:,:]\n",
    "\n",
    "# Cell's Outputs\n",
    "plot_predictions(X_full_train, y_full_train, X_test, y_test)\n",
    "X.shape, y.shape, X_train.shape, y_train.shape, X_val.shape, y_val.shape, X_test.shape, y_test.shape"
   ]
  },
  {
   "cell_type": "markdown",
   "id": "a5c41c34",
   "metadata": {},
   "source": [
    "#### 5.2 Building a PyTorch Linear Model Class"
   ]
  },
  {
   "cell_type": "code",
   "execution_count": 18,
   "id": "be203abe",
   "metadata": {},
   "outputs": [],
   "source": [
    "# Build a PyTorch Linear Model Class\n",
    "class Linear_Regression_ModelV2(nn.Module):\n",
    "    \n",
    "    def __init__(self):\n",
    "        super().__init__()\n",
    "        self.linear_layer = nn.Linear(in_features=1, out_features=1)\n",
    "    \n",
    "    def forward(self, x: torch.Tensor) -> torch.Tensor:\n",
    "        x = self.linear_layer(x)\n",
    "        return x"
   ]
  },
  {
   "cell_type": "code",
   "execution_count": 19,
   "id": "e2ed6712",
   "metadata": {},
   "outputs": [
    {
     "data": {
      "text/plain": [
       "OrderedDict([('linear_layer.weight', tensor([[0.7645]], device='cuda:0')),\n",
       "             ('linear_layer.bias', tensor([0.8300], device='cuda:0'))])"
      ]
     },
     "execution_count": 19,
     "metadata": {},
     "output_type": "execute_result"
    }
   ],
   "source": [
    "torch.manual_seed(my_seed)\n",
    "model_1 = Linear_Regression_ModelV2()\n",
    "model_1.to(device)\n",
    "model_1.state_dict()"
   ]
  },
  {
   "cell_type": "markdown",
   "id": "0824c6c2",
   "metadata": {},
   "source": [
    "#### 5.3. Training & Validation of the Model"
   ]
  },
  {
   "cell_type": "code",
   "execution_count": 20,
   "id": "3d2847ca",
   "metadata": {},
   "outputs": [
    {
     "name": "stdout",
     "output_type": "stream",
     "text": [
      "Epoch:     0 | Train_Loss: 0.552564 | Val_Loss: 0.565760\n",
      "Epoch:    20 | Train_Loss: 0.328134 | Val_Loss: 0.313370\n",
      "Epoch:    40 | Train_Loss: 0.103705 | Val_Loss: 0.060981\n",
      "Epoch:    60 | Train_Loss: 0.015516 | Val_Loss: 0.032910\n",
      "Epoch:    80 | Train_Loss: 0.010092 | Val_Loss: 0.021258\n",
      "Epoch:   100 | Train_Loss: 0.004667 | Val_Loss: 0.009533\n",
      "Epoch:   120 | Train_Loss: 0.002383 | Val_Loss: 0.011965\n",
      "Epoch:   140 | Train_Loss: 0.002383 | Val_Loss: 0.011965\n",
      "Epoch:   160 | Train_Loss: 0.002383 | Val_Loss: 0.011965\n",
      "Epoch:   180 | Train_Loss: 0.002383 | Val_Loss: 0.011965\n",
      "Epoch:   199 | Train_Loss: 0.008838 | Val_Loss: 0.000655\n",
      "------------------------------------------------------------\n",
      "\n",
      "Final Parameters: OrderedDict({'linear_layer.weight': tensor([[0.6957]], device='cuda:0'), 'linear_layer.bias': tensor([0.3039], device='cuda:0')})\n"
     ]
    }
   ],
   "source": [
    "# Training Model\n",
    "torch.manual_seed(my_seed)\n",
    "\n",
    "# Training HyperParameters\n",
    "criterion = nn.L1Loss()\n",
    "optimizer = torch.optim.SGD(model_1.parameters(), lr=0.01)\n",
    "epochs = 200\n",
    "\n",
    "# Training Lists\n",
    "epochs_list = []\n",
    "train_loss_list = []\n",
    "val_loss_list = []\n",
    "\n",
    "# \n",
    "X_full_train = X_full_train.to(device); y_full_train = y_full_train.to(device)\n",
    "X_train = X_train.to(device); y_train = y_train.to(device)\n",
    "X_val = X_val.to(device); y_val = y_val.to(device)\n",
    "X_test = X_test.to(device); y_test = y_test.to(device)\n",
    "\n",
    "# Training Loop\n",
    "for epoch in range(epochs):\n",
    "    model_1.train()\n",
    "\n",
    "    outputs = model_1(X_train)\n",
    "    loss = criterion(outputs, y_train)\n",
    "    optimizer.zero_grad()\n",
    "    loss.backward()\n",
    "    optimizer.step()\n",
    "    #---------------------------------------------\n",
    "    model_1.eval()\n",
    "    with torch.inference_mode():\n",
    "        val_outputs = model_1(X_val)\n",
    "        val_loss = criterion(val_outputs, y_val)\n",
    "    \n",
    "    if (epoch % max(1, epochs // 10) == 0):\n",
    "        print(f'Epoch: {epoch:5} | Train_Loss: {loss.item():.6f} | Val_Loss: {val_loss.item():.6f}')\n",
    "        \n",
    "        train_loss_list.append(loss.item())\n",
    "        val_loss_list.append(val_loss.item())\n",
    "        epochs_list.append(epoch)\n",
    "\n",
    "\n",
    "print(f'Epoch: {epoch:5} | Train_Loss: {loss.item():.6f} | Val_Loss: {val_loss.item():.6f}')\n",
    "print(f'{'-'*60}\\n\\nFinal Parameters: {model_1.state_dict()}')\n",
    "\n",
    "     \n",
    "    "
   ]
  },
  {
   "cell_type": "code",
   "execution_count": 21,
   "id": "bfc41ffd",
   "metadata": {},
   "outputs": [
    {
     "name": "stdout",
     "output_type": "stream",
     "text": [
      "Test_Loss: 0.000216\n"
     ]
    },
    {
     "data": {
      "image/png": "[encoded data removed]",
      "text/plain": [
       "<Figure size 600x400 with 1 Axes>"
      ]
     },
     "metadata": {},
     "output_type": "display_data"
    },
    {
     "data": {
      "image/png": "[encoded data removed]",
      "text/plain": [
       "<Figure size 600x400 with 1 Axes>"
      ]
     },
     "metadata": {},
     "output_type": "display_data"
    }
   ],
   "source": [
    "# Plotting Training vs Validation Loss\n",
    "plt.figure(figsize=(6,4))\n",
    "plt.plot(epochs_list, train_loss_list, label='Training Loss')\n",
    "plt.plot(epochs_list, val_loss_list, label='Validation Loss')\n",
    "plt.legend(); plt.grid()\n",
    "\n",
    "# Testing\n",
    "with torch.inference_mode():\n",
    "    test_outputs = model_1(X_test)\n",
    "    test_loss = criterion(test_outputs, y_test)\n",
    "print(f'Test_Loss: {test_loss:5f}')\n",
    "\n",
    "# Plotting Predictions\n",
    "plot_predictions(train_data= torch.Tensor.cpu(X_full_train), train_labels=torch.Tensor.cpu(y_full_train), \n",
    "                 test_data = torch.Tensor.cpu(X_test), test_labels = torch.Tensor.cpu(y_test), predictions=torch.Tensor.cpu(test_outputs))"
   ]
  },
  {
   "cell_type": "markdown",
   "id": "0c9aab3b",
   "metadata": {},
   "source": [
    "#### 5.4. Saving & Loading a Model"
   ]
  },
  {
   "cell_type": "code",
   "execution_count": 22,
   "id": "aa63d6a4",
   "metadata": {},
   "outputs": [],
   "source": [
    "# Saving the Model\n",
    "from pathlib import Path\n",
    "\n",
    "PATH_FOLDER = Path('models'); PATH_FOLDER.mkdir(parents=True, exist_ok=True)\n",
    "MODEL_NAME = '01_pytorch_workflow_model_1.pth'\n",
    "MODEL_SAVE_PATH = PATH_FOLDER / MODEL_NAME\n",
    "\n",
    "torch.save(obj=model_1.state_dict(), f=MODEL_SAVE_PATH)"
   ]
  },
  {
   "cell_type": "code",
   "execution_count": 23,
   "id": "ebcdb8ea",
   "metadata": {},
   "outputs": [
    {
     "name": "stdout",
     "output_type": "stream",
     "text": [
      "OrderedDict({'linear_layer.weight': tensor([[0.6957]], device='cuda:0'), 'linear_layer.bias': tensor([0.3039], device='cuda:0')})\n"
     ]
    }
   ],
   "source": [
    "# Loading the Model\n",
    "loaded_model_1 = Linear_Regression_ModelV2().to(device)\n",
    "loaded_model_1.load_state_dict(torch.load(f=MODEL_SAVE_PATH))\n",
    "print(loaded_model_1.state_dict())"
   ]
  },
  {
   "cell_type": "code",
   "execution_count": 24,
   "id": "50896872",
   "metadata": {},
   "outputs": [
    {
     "data": {
      "text/plain": [
       "tensor(True, device='cuda:0')"
      ]
     },
     "execution_count": 24,
     "metadata": {},
     "output_type": "execute_result"
    }
   ],
   "source": [
    "# Use the Loaded Model\n",
    "loaded_model_1.eval()\n",
    "with torch.inference_mode():\n",
    "    loaded_outputs = loaded_model_1(X_test)\n",
    "    loaded_model_1_loss = criterion(loaded_outputs, y_test)\n",
    "\n",
    "(loaded_outputs == test_outputs).sum() == len(X_test)"
   ]
  }
 ],
 "metadata": {
  "kernelspec": {
   "display_name": "Python 3",
   "language": "python",
   "name": "python3"
  },
  "language_info": {
   "codemirror_mode": {
    "name": "ipython",
    "version": 3
   },
   "file_extension": ".py",
   "mimetype": "text/x-python",
   "name": "python",
   "nbconvert_exporter": "python",
   "pygments_lexer": "ipython3",
   "version": "3.13.2"
  }
 },
 "nbformat": 4,
 "nbformat_minor": 5
}
