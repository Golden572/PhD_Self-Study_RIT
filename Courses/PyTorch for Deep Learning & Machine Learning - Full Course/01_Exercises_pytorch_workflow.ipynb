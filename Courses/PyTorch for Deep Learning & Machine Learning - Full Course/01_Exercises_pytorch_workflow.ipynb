{
  "cells": [
    {
      "cell_type": "markdown",
      "metadata": {
        "id": "N8LsPXZti9Sw"
      },
      "source": [
        "# 01. PyTorch Workflow Exercise Template\n",
        "\n",
        "The following is a template for the PyTorch workflow exercises.\n",
        "\n",
        "It's only starter code and it's your job to fill in the blanks.\n",
        "\n",
        "Because of the flexibility of PyTorch, there may be more than one way to answer the question.\n",
        "\n",
        "Don't worry about trying to be *right* just try writing code that suffices the question.\n",
        "\n",
        "You can see one form of [solutions on GitHub](https://github.com/mrdbourke/pytorch-deep-learning/tree/main/extras/solutions) (but try the exercises below yourself first!)."
      ]
    },
    {
      "cell_type": "code",
      "execution_count": 365,
      "metadata": {
        "id": "Glu2fM4dkNlx"
      },
      "outputs": [],
      "source": [
        "# Import necessary libraries\n",
        "# PyTorch\n",
        "import torch\n",
        "import torch.nn as nn\n",
        "\n",
        "# Data Manipulation\n",
        "import pandas as pd\n",
        "import numpy as np\n",
        "import matplotlib.pyplot as plt\n",
        "\n",
        "# Path\n",
        "from pathlib import Path"
      ]
    },
    {
      "cell_type": "code",
      "execution_count": 366,
      "metadata": {
        "id": "LqKhXY26m31s"
      },
      "outputs": [
        {
          "name": "stdout",
          "output_type": "stream",
          "text": [
            "Device: cuda\n"
          ]
        }
      ],
      "source": [
        "# Setup device-agnostic code\n",
        "device = 'cuda' if torch.cuda.is_available() else 'cpu'\n",
        "print(f'Device: {device}')"
      ]
    },
    {
      "cell_type": "markdown",
      "metadata": {
        "id": "g7HUhxCxjeBx"
      },
      "source": [
        "## 1. Create a straight line dataset using the linear regression formula (`weight * X + bias`).\n",
        "  * Set `weight=0.3` and `bias=0.9` there should be at least 100 datapoints total.\n",
        "  * Split the data into 80% training, 20% testing.\n",
        "  * Plot the training and testing data so it becomes visual.\n",
        "\n",
        "Your output of the below cell should look something like:\n",
        "```\n",
        "Number of X samples: 100\n",
        "Number of y samples: 100\n",
        "First 10 X & y samples:\n",
        "X: tensor([0.0000, 0.0100, 0.0200, 0.0300, 0.0400, 0.0500, 0.0600, 0.0700, 0.0800,\n",
        "        0.0900])\n",
        "y: tensor([0.9000, 0.9030, 0.9060, 0.9090, 0.9120, 0.9150, 0.9180, 0.9210, 0.9240,\n",
        "        0.9270])\n",
        "```\n",
        "\n",
        "Of course the numbers in `X` and `y` may be different but ideally they're created using the linear regression formula."
      ]
    },
    {
      "cell_type": "code",
      "execution_count": 367,
      "metadata": {
        "id": "KbDG5MV7jhvE"
      },
      "outputs": [
        {
          "name": "stdout",
          "output_type": "stream",
          "text": [
            "Number of X samples: 100\n",
            "Number of y samples: 100\n",
            "First 10 X & y samples:\n",
            "X: tensor([[0.0000],\n",
            "        [0.0100],\n",
            "        [0.0200],\n",
            "        [0.0300],\n",
            "        [0.0400],\n",
            "        [0.0500],\n",
            "        [0.0600],\n",
            "        [0.0700],\n",
            "        [0.0800],\n",
            "        [0.0900]], device='cuda:0')\n",
            "y: tensor([[0.9000],\n",
            "        [0.9030],\n",
            "        [0.9060],\n",
            "        [0.9090],\n",
            "        [0.9120],\n",
            "        [0.9150],\n",
            "        [0.9180],\n",
            "        [0.9210],\n",
            "        [0.9240],\n",
            "        [0.9270]], device='cuda:0')\n"
          ]
        }
      ],
      "source": [
        "# Create the data parameters\n",
        "start = 0; end = 1; step_size = 0.01\n",
        "weight = 0.3; bias = 0.9\n",
        "\n",
        "# Make X and y using linear regression feature\n",
        "X = torch.arange(start=start, end=end, step=step_size).unsqueeze(dim=1).to(device)\n",
        "y = weight*X + bias\n",
        "\n",
        "\n",
        "print(f\"Number of X samples: {len(X)}\")\n",
        "print(f\"Number of y samples: {len(y)}\")\n",
        "print(f\"First 10 X & y samples:\\nX: {X[:10]}\\ny: {y[:10]}\")"
      ]
    },
    {
      "cell_type": "code",
      "execution_count": 368,
      "metadata": {
        "id": "GlwtT1djkmLw"
      },
      "outputs": [
        {
          "data": {
            "text/plain": [
              "(torch.Size([80, 1]),\n",
              " torch.Size([80, 1]),\n",
              " torch.Size([20, 1]),\n",
              " torch.Size([20, 1]))"
            ]
          },
          "execution_count": 368,
          "metadata": {},
          "output_type": "execute_result"
        }
      ],
      "source": [
        "# Split the data into training and testing\n",
        "training_size = 0.8; training_split = int(len(X)*training_size)\n",
        "X_train = X[:training_split,:]; y_train = y[:training_split,:]\n",
        "X_test = X[training_split:,:]; y_test = y[training_split:,:]\n",
        "\n",
        "X_train.shape, y_train.shape, X_test.shape, y_test.shape"
      ]
    },
    {
      "cell_type": "code",
      "execution_count": 369,
      "metadata": {
        "id": "29iQZFNhlYJ-"
      },
      "outputs": [
        {
          "data": {
            "image/png": "[encoded data removed]",
            "text/plain": [
              "<Figure size 600x400 with 1 Axes>"
            ]
          },
          "metadata": {},
          "output_type": "display_data"
        }
      ],
      "source": [
        "# Plot the training and testing data\n",
        "def plot_preds(train_data=X_train, train_labels=y_train, test_data=X_test, test_labels=y_test, model_name='Original Data', preds=None):\n",
        "    plt.figure(figsize=(6,4))\n",
        "    plt.scatter(train_data.cpu().numpy(), train_labels.cpu().numpy(), c='b', s=6, label='Train Data')\n",
        "    plt.scatter(test_data.cpu().numpy(), test_labels.cpu().numpy(), c='g', s=6, label='Test Data')\n",
        "    plt.scatter(test_data.cpu().numpy(), preds.cpu().numpy(), c='r', s=5, marker='*', label='Predictions') if (preds is not None) else None\n",
        "    plt.title(f'{model_name}') if (preds is None) else plt.title(f'{model_name} Predictions')\n",
        "    plt.legend()\n",
        "    plt.show()\n",
        "\n",
        "plot_preds()"
      ]
    },
    {
      "cell_type": "markdown",
      "metadata": {
        "id": "ImZoe3v8jif8"
      },
      "source": [
        "## 2. Build a PyTorch model by subclassing `nn.Module`.\n",
        "  * Inside should be a randomly initialized `nn.Parameter()` with `requires_grad=True`, one for `weights` and one for `bias`.\n",
        "  * Implement the `forward()` method to compute the linear regression function you used to create the dataset in 1.\n",
        "  * Once you've constructed the model, make an instance of it and check its `state_dict()`.\n",
        "  * **Note:** If you'd like to use `nn.Linear()` instead of `nn.Parameter()` you can."
      ]
    },
    {
      "cell_type": "code",
      "execution_count": 370,
      "metadata": {
        "id": "qzd__Y5rjtB8"
      },
      "outputs": [],
      "source": [
        "# Create PyTorch linear regression model by subclassing nn.Module\n",
        "class My_Linear_Regression_Params(nn.Module):\n",
        "\n",
        "    def __init__(self):\n",
        "        super().__init__()\n",
        "\n",
        "        self.weight = nn.Parameter(torch.randn(1, requires_grad=True, dtype=torch.float32))\n",
        "        self.bias = nn.Parameter(torch.randn(1, requires_grad=True, dtype=torch.float32))\n",
        "\n",
        "    def forward(self, x):\n",
        "        x = self.weight*x + self.bias\n",
        "        return x \n",
        "    \n",
        "class My_Linear_Regression_Layer(nn.Module):\n",
        "\n",
        "    def __init__(self):\n",
        "        super().__init__()\n",
        "\n",
        "        self.layer_1 = nn.Linear(in_features=1, out_features=1)\n",
        "\n",
        "    def forward(self, x):\n",
        "        x = self.layer_1(x)\n",
        "        return x \n"
      ]
    },
    {
      "cell_type": "code",
      "execution_count": 371,
      "metadata": {
        "id": "5LdcDnmOmyQ2"
      },
      "outputs": [
        {
          "data": {
            "text/plain": [
              "(OrderedDict([('weight', tensor([0.3367], device='cuda:0')),\n",
              "              ('bias', tensor([0.1288], device='cuda:0'))]),\n",
              " OrderedDict([('layer_1.weight', tensor([[-0.2191]], device='cuda:0')),\n",
              "              ('layer_1.bias', tensor([0.2018], device='cuda:0'))]))"
            ]
          },
          "execution_count": 371,
          "metadata": {},
          "output_type": "execute_result"
        }
      ],
      "source": [
        "# Instantiate the model and put it to the target device\n",
        "my_seed = 42; torch.manual_seed(my_seed)\n",
        "model_0 = My_Linear_Regression_Params().to(device)\n",
        "model_1 = My_Linear_Regression_Layer().to(device)\n",
        "model_0.state_dict(), model_1.state_dict()"
      ]
    },
    {
      "cell_type": "markdown",
      "metadata": {
        "id": "G6nYOrJhjtfu"
      },
      "source": [
        "## 3. Create a loss function and optimizer using `nn.L1Loss()` and `torch.optim.SGD(params, lr)` respectively.\n",
        "  * Set the learning rate of the optimizer to be 0.01 and the parameters to optimize should be the model parameters from the model you created in 2.\n",
        "  * Write a training loop to perform the appropriate training steps for 300 epochs.\n",
        "  * The training loop should test the model on the test dataset every 20 epochs."
      ]
    },
    {
      "cell_type": "code",
      "execution_count": 372,
      "metadata": {},
      "outputs": [
        {
          "name": "stdout",
          "output_type": "stream",
          "text": [
            "\n",
            "Training Model: My_Linear_Regression_Params\n",
            "Epoch:     0 | Train_Loss: 0.75670 | Test_Loss: 0.73700\n",
            "Epoch:   200 | Train_Loss: 0.52549 | Test_Loss: 0.46629\n",
            "Epoch:   400 | Train_Loss: 0.29429 | Test_Loss: 0.19559\n",
            "Epoch:   600 | Train_Loss: 0.07742 | Test_Loss: 0.06397\n",
            "Epoch:   800 | Train_Loss: 0.05254 | Test_Loss: 0.11484\n",
            "Epoch:  1000 | Train_Loss: 0.04548 | Test_Loss: 0.10512\n",
            "Epoch:  1200 | Train_Loss: 0.03863 | Test_Loss: 0.08982\n",
            "Epoch:  1400 | Train_Loss: 0.03178 | Test_Loss: 0.07452\n",
            "Epoch:  1600 | Train_Loss: 0.02492 | Test_Loss: 0.05888\n",
            "Epoch:  1800 | Train_Loss: 0.01807 | Test_Loss: 0.04265\n",
            "Epoch:  1999 | Train_Loss: 0.01126 | Test_Loss: 0.04265\n",
            "Successful Training! --> Final Parameters: OrderedDict({'weight': tensor([0.3559], device='cuda:0'), 'bias': tensor([0.8765], device='cuda:0')})\n",
            "\n",
            "----------------------------------------------------------------------\n",
            "\n",
            "Training Model: My_Linear_Regression_Layer\n",
            "Epoch:     0 | Train_Loss: 0.90326 | Test_Loss: 1.16145\n",
            "Epoch:   200 | Train_Loss: 0.67205 | Test_Loss: 0.89075\n",
            "Epoch:   400 | Train_Loss: 0.44085 | Test_Loss: 0.62005\n",
            "Epoch:   600 | Train_Loss: 0.20965 | Test_Loss: 0.34935\n",
            "Epoch:   800 | Train_Loss: 0.04452 | Test_Loss: 0.12565\n",
            "Epoch:  1000 | Train_Loss: 0.03293 | Test_Loss: 0.07847\n",
            "Epoch:  1200 | Train_Loss: 0.02606 | Test_Loss: 0.06157\n",
            "Epoch:  1400 | Train_Loss: 0.01921 | Test_Loss: 0.04538\n",
            "Epoch:  1600 | Train_Loss: 0.01236 | Test_Loss: 0.02915\n",
            "Epoch:  1800 | Train_Loss: 0.00551 | Test_Loss: 0.01296\n",
            "Epoch:  1999 | Train_Loss: 0.00075 | Test_Loss: 0.01296\n",
            "Successful Training! --> Final Parameters: OrderedDict({'layer_1.weight': tensor([[0.2997]], device='cuda:0'), 'layer_1.bias': tensor([0.9005], device='cuda:0')})\n",
            "\n",
            "----------------------------------------------------------------------\n"
          ]
        }
      ],
      "source": [
        "# Training loop\n",
        "def train_model(model, train_data, train_labels, criterion, optimizer, epochs):\n",
        "    print(f'\\nTraining Model: {model._get_name()}')\n",
        "    \n",
        "    for epoch in range(epochs):\n",
        "        # Training\n",
        "        model.train()\n",
        "\n",
        "        outputs = model(train_data)\n",
        "        loss = criterion(outputs, train_labels)\n",
        "        optimizer.zero_grad()\n",
        "        loss.backward()\n",
        "        optimizer.step()\n",
        "\n",
        "        # Testing\n",
        "        if (epoch % max(1, epochs // 10) == 0):\n",
        "            model.eval()\n",
        "            with torch.inference_mode():\n",
        "                test_output = model(X_test)\n",
        "                test_loss = criterion(test_output, y_test)\n",
        "            print(f'Epoch: {epoch:5} | Train_Loss: {loss:.5f} | Test_Loss: {test_loss:.5f}')\n",
        "    print(f'Epoch: {epoch:5} | Train_Loss: {loss:.5f} | Test_Loss: {test_loss:.5f}')\n",
        "    print(f'Successful Training! --> Final Parameters: {model.state_dict()}\\n\\n{'-'*70}')\n",
        "    \n",
        "\n",
        "# Create the loss function and optimizer\n",
        "criterion = nn.L1Loss()\n",
        "optimizer_0 = torch.optim.SGD(model_0.parameters(), lr=0.001)\n",
        "optimizer_1 = torch.optim.SGD(model_1.parameters(), lr=0.001)\n",
        "\n",
        "epochs = 2000\n",
        "\n",
        "# Train models for 300 epochs\n",
        "train_model(model_0, X_train, y_train, criterion, optimizer_0, epochs)\n",
        "train_model(model_1, X_train, y_train, criterion, optimizer_1, epochs)\n",
        "\n"
      ]
    },
    {
      "cell_type": "markdown",
      "metadata": {
        "id": "x4j4TM18jwa7"
      },
      "source": [
        "## 4. Make predictions with the trained model on the test data.\n",
        "  * Visualize these predictions against the original training and testing data (**note:** you may need to make sure the predictions are *not* on the GPU if you want to use non-CUDA-enabled libraries such as matplotlib to plot)."
      ]
    },
    {
      "cell_type": "code",
      "execution_count": 373,
      "metadata": {},
      "outputs": [
        {
          "data": {
            "image/png": "[encoded data removed]",
            "text/plain": [
              "<Figure size 600x400 with 1 Axes>"
            ]
          },
          "metadata": {},
          "output_type": "display_data"
        },
        {
          "data": {
            "image/png": "[encoded data removed]",
            "text/plain": [
              "<Figure size 600x400 with 1 Axes>"
            ]
          },
          "metadata": {},
          "output_type": "display_data"
        }
      ],
      "source": [
        "# Make predictions with the model\n",
        "model_0.eval(); model_1.eval()\n",
        "with torch.inference_mode():\n",
        "    outputs_0 = model_0(X_test); outputs_1 = model_1(X_test)\n",
        "    loss_0 = criterion(outputs_0, y_test); loss_1 = criterion(outputs_1, y_test)\n",
        "\n",
        "plot_preds(preds=outputs_0, model_name='model_0')\n",
        "plot_preds(preds=outputs_1, model_name='model_1')\n"
      ]
    },
    {
      "cell_type": "markdown",
      "metadata": {
        "id": "s2OnlMWKjzX8"
      },
      "source": [
        "## 5. Save your trained model's `state_dict()` to file.\n",
        "  * Create a new instance of your model class you made in 2. and load in the `state_dict()` you just saved to it.\n",
        "  * Perform predictions on your test data with the loaded model and confirm they match the original model predictions from 4."
      ]
    },
    {
      "cell_type": "code",
      "execution_count": 374,
      "metadata": {
        "id": "hgxhgD14qr-i"
      },
      "outputs": [],
      "source": [
        "from pathlib import Path\n",
        "\n",
        "# 1. Create models directory & name\n",
        "FOLDER_PATH = Path('models'); FOLDER_PATH.mkdir(parents=True, exist_ok=True)\n",
        "MODEL_0_NAME = '01_pytorch_workflow_model_0_exercise.pth'; MODEL_1_NAME = '01_pytorch_workflow_model_1_exercise.pth'\n",
        "\n",
        "# 2. Save the model state dict\n",
        "MODEL_0_SAVE_PATH = FOLDER_PATH / MODEL_0_NAME; torch.save(obj=model_0.state_dict(), f=MODEL_0_SAVE_PATH)\n",
        "MODEL_1_SAVE_PATH = FOLDER_PATH / MODEL_1_NAME; torch.save(obj=model_1.state_dict(), f=MODEL_1_SAVE_PATH)\n"
      ]
    },
    {
      "cell_type": "code",
      "execution_count": 375,
      "metadata": {
        "id": "P9vTgiLRrJ7T"
      },
      "outputs": [
        {
          "data": {
            "text/plain": [
              "<All keys matched successfully>"
            ]
          },
          "execution_count": 375,
          "metadata": {},
          "output_type": "execute_result"
        }
      ],
      "source": [
        "# Create new instance of model and load saved state dict (make sure to put it on the target device)\n",
        "loaded_model_0 = My_Linear_Regression_Params().to(device); loaded_model_0.load_state_dict(torch.load(f=MODEL_0_SAVE_PATH))\n",
        "loaded_model_1 = My_Linear_Regression_Layer().to(device);  loaded_model_1.load_state_dict(torch.load(f=MODEL_1_SAVE_PATH))\n"
      ]
    },
    {
      "cell_type": "code",
      "execution_count": 376,
      "metadata": {
        "id": "8UGX3VebrVtI"
      },
      "outputs": [
        {
          "data": {
            "text/plain": [
              "True"
            ]
          },
          "execution_count": 376,
          "metadata": {},
          "output_type": "execute_result"
        }
      ],
      "source": [
        "# Make predictions with loaded model and compare them to the previous\n",
        "loaded_model_0.eval(); loaded_model_1.eval()\n",
        "with torch.inference_mode():\n",
        "    loaded_0_outputs = loaded_model_0(X_test)\n",
        "    loaded_1_outputs = loaded_model_1(X_test)\n",
        "\n",
        "# Verify that the predictions from the loaded models exactly match those from the original models.\n",
        "torch.equal(loaded_0_outputs, outputs_0) == torch.equal(loaded_1_outputs, outputs_1) # All True for both model_0 and model_1 predictions, for both loaded and original versions."
      ]
    }
  ],
  "metadata": {
    "accelerator": "GPU",
    "colab": {
      "name": "01_pytorch_workflow_exercises.ipynb",
      "provenance": []
    },
    "kernelspec": {
      "display_name": "Python 3",
      "name": "python3"
    },
    "language_info": {
      "codemirror_mode": {
        "name": "ipython",
        "version": 3
      },
      "file_extension": ".py",
      "mimetype": "text/x-python",
      "name": "python",
      "nbconvert_exporter": "python",
      "pygments_lexer": "ipython3",
      "version": "3.13.2"
    }
  },
  "nbformat": 4,
  "nbformat_minor": 0
}
